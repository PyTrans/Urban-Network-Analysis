{
 "cells": [
  {
   "cell_type": "markdown",
   "metadata": {},
   "source": [
    "# Network Structure"
   ]
  },
  {
   "cell_type": "markdown",
   "metadata": {},
   "source": [
    "There are a variety of ways to store networks, with significant differences in storage requirements and information access rates. In general, the formats may be considered as link-oriented or nodeoriented. Link-oriented formats facilitate access to node information given a link index; nodeoriented formats facilitate access to link parameters given node indices. Four simple storage formats are presented: (1) Node-link Incidence Matrix, (2) Adjacency Matrix, (3) Ladder Representation, and (4) Forward Star."
   ]
  },
  {
   "cell_type": "markdown",
   "metadata": {},
   "source": [
    "## Dependencies"
   ]
  },
  {
   "cell_type": "code",
   "execution_count": 94,
   "metadata": {},
   "outputs": [],
   "source": [
    "import os\n",
    "import numpy as np\n",
    "import pandas as pd\n",
    "from sys import getsizeof"
   ]
  },
  {
   "cell_type": "markdown",
   "metadata": {},
   "source": [
    "## Sample Networks\n",
    "<img src=\"./Data/TransportationNetworks\\Seervada Park Management\\network_cost.png\">\n"
   ]
  },
  {
   "cell_type": "code",
   "execution_count": 95,
   "metadata": {},
   "outputs": [
    {
     "data": {
      "text/html": [
       "<div>\n",
       "<table border=\"1\" class=\"dataframe\">\n",
       "  <thead>\n",
       "    <tr style=\"text-align: right;\">\n",
       "      <th></th>\n",
       "      <th>FID</th>\n",
       "      <th>Id</th>\n",
       "      <th>FNode</th>\n",
       "      <th>TNode</th>\n",
       "      <th>Dist</th>\n",
       "      <th>Cost</th>\n",
       "      <th>FName</th>\n",
       "      <th>TName</th>\n",
       "    </tr>\n",
       "  </thead>\n",
       "  <tbody>\n",
       "    <tr>\n",
       "      <th>0</th>\n",
       "      <td>0</td>\n",
       "      <td>0</td>\n",
       "      <td>0</td>\n",
       "      <td>1</td>\n",
       "      <td>70.710678</td>\n",
       "      <td>2</td>\n",
       "      <td>R</td>\n",
       "      <td>A</td>\n",
       "    </tr>\n",
       "    <tr>\n",
       "      <th>1</th>\n",
       "      <td>1</td>\n",
       "      <td>1</td>\n",
       "      <td>0</td>\n",
       "      <td>2</td>\n",
       "      <td>150.000000</td>\n",
       "      <td>5</td>\n",
       "      <td>R</td>\n",
       "      <td>B</td>\n",
       "    </tr>\n",
       "    <tr>\n",
       "      <th>2</th>\n",
       "      <td>2</td>\n",
       "      <td>2</td>\n",
       "      <td>0</td>\n",
       "      <td>3</td>\n",
       "      <td>111.803399</td>\n",
       "      <td>4</td>\n",
       "      <td>R</td>\n",
       "      <td>C</td>\n",
       "    </tr>\n",
       "    <tr>\n",
       "      <th>3</th>\n",
       "      <td>3</td>\n",
       "      <td>3</td>\n",
       "      <td>1</td>\n",
       "      <td>2</td>\n",
       "      <td>111.803399</td>\n",
       "      <td>2</td>\n",
       "      <td>A</td>\n",
       "      <td>B</td>\n",
       "    </tr>\n",
       "    <tr>\n",
       "      <th>4</th>\n",
       "      <td>5</td>\n",
       "      <td>4</td>\n",
       "      <td>1</td>\n",
       "      <td>4</td>\n",
       "      <td>206.155281</td>\n",
       "      <td>7</td>\n",
       "      <td>A</td>\n",
       "      <td>D</td>\n",
       "    </tr>\n",
       "    <tr>\n",
       "      <th>5</th>\n",
       "      <td>6</td>\n",
       "      <td>5</td>\n",
       "      <td>2</td>\n",
       "      <td>4</td>\n",
       "      <td>100.000000</td>\n",
       "      <td>4</td>\n",
       "      <td>B</td>\n",
       "      <td>D</td>\n",
       "    </tr>\n",
       "    <tr>\n",
       "      <th>6</th>\n",
       "      <td>7</td>\n",
       "      <td>6</td>\n",
       "      <td>2</td>\n",
       "      <td>5</td>\n",
       "      <td>111.803399</td>\n",
       "      <td>3</td>\n",
       "      <td>B</td>\n",
       "      <td>E</td>\n",
       "    </tr>\n",
       "    <tr>\n",
       "      <th>7</th>\n",
       "      <td>4</td>\n",
       "      <td>7</td>\n",
       "      <td>3</td>\n",
       "      <td>2</td>\n",
       "      <td>70.710678</td>\n",
       "      <td>1</td>\n",
       "      <td>C</td>\n",
       "      <td>B</td>\n",
       "    </tr>\n",
       "    <tr>\n",
       "      <th>8</th>\n",
       "      <td>11</td>\n",
       "      <td>8</td>\n",
       "      <td>3</td>\n",
       "      <td>5</td>\n",
       "      <td>150.000000</td>\n",
       "      <td>4</td>\n",
       "      <td>C</td>\n",
       "      <td>E</td>\n",
       "    </tr>\n",
       "    <tr>\n",
       "      <th>9</th>\n",
       "      <td>9</td>\n",
       "      <td>9</td>\n",
       "      <td>4</td>\n",
       "      <td>6</td>\n",
       "      <td>104.403065</td>\n",
       "      <td>5</td>\n",
       "      <td>D</td>\n",
       "      <td>S</td>\n",
       "    </tr>\n",
       "    <tr>\n",
       "      <th>10</th>\n",
       "      <td>8</td>\n",
       "      <td>10</td>\n",
       "      <td>5</td>\n",
       "      <td>4</td>\n",
       "      <td>50.000000</td>\n",
       "      <td>1</td>\n",
       "      <td>E</td>\n",
       "      <td>D</td>\n",
       "    </tr>\n",
       "    <tr>\n",
       "      <th>11</th>\n",
       "      <td>10</td>\n",
       "      <td>11</td>\n",
       "      <td>5</td>\n",
       "      <td>6</td>\n",
       "      <td>128.062485</td>\n",
       "      <td>7</td>\n",
       "      <td>E</td>\n",
       "      <td>S</td>\n",
       "    </tr>\n",
       "  </tbody>\n",
       "</table>\n",
       "</div>"
      ],
      "text/plain": [
       "    FID  Id  FNode  TNode        Dist  Cost FName TName\n",
       "0     0   0      0      1   70.710678     2     R     A\n",
       "1     1   1      0      2  150.000000     5     R     B\n",
       "2     2   2      0      3  111.803399     4     R     C\n",
       "3     3   3      1      2  111.803399     2     A     B\n",
       "4     5   4      1      4  206.155281     7     A     D\n",
       "5     6   5      2      4  100.000000     4     B     D\n",
       "6     7   6      2      5  111.803399     3     B     E\n",
       "7     4   7      3      2   70.710678     1     C     B\n",
       "8    11   8      3      5  150.000000     4     C     E\n",
       "9     9   9      4      6  104.403065     5     D     S\n",
       "10    8  10      5      4   50.000000     1     E     D\n",
       "11   10  11      5      6  128.062485     7     E     S"
      ]
     },
     "execution_count": 95,
     "metadata": {},
     "output_type": "execute_result"
    }
   ],
   "source": [
    "links_df=pd.read_csv(\"./Data/Seervada Park Management\\links.csv\")\n",
    "links_df"
   ]
  },
  {
   "cell_type": "markdown",
   "metadata": {},
   "source": [
    "## 1. Node-Arc Incidence Matrix\n",
    "\n",
    "The Node-Arc Incidence Matrix comprises N rows that correspond to network nodes and M columns that represent network links. For a given link (i,j), the matrix is coded as: \n",
    "\n",
    "Cell [node n, link(i,j)]\n",
    "\n",
    "    -1 if n = i (node n is the origin of link (i,j)) \n",
    "    \n",
    "     1 if n = j (node n is the destination of link (i,j)) \n",
    "\n",
    "    0 otherwise Matrix Properties:\n",
    "    \n",
    "    \n",
    "\n",
    "Requires N by M storage locations (about 4N2 for traffic networks).\n",
    "2M entries of N are nonzero\n",
    "\n",
    "Each column has exactly one +1 and one -1.\n",
    "\n",
    "The node-arc incident matrix can be easily implemented to standard linear programming that is well known as the standard minimum cost network flow problem. We will revisit this problem in a notebook in the optimization chapter."
   ]
  },
  {
   "cell_type": "code",
   "execution_count": 96,
   "metadata": {},
   "outputs": [
    {
     "data": {
      "text/plain": [
       "array([[ 1.,  1.,  1.,  0.,  0.,  0.,  0.,  0.,  0.,  0.,  0.,  0.],\n",
       "       [-1.,  0.,  0.,  1.,  1.,  0.,  0.,  0.,  0.,  0.,  0.,  0.],\n",
       "       [ 0., -1.,  0., -1.,  0.,  1.,  1., -1.,  0.,  0.,  0.,  0.],\n",
       "       [ 0.,  0., -1.,  0.,  0.,  0.,  0.,  1.,  1.,  0.,  0.,  0.],\n",
       "       [ 0.,  0.,  0.,  0., -1., -1.,  0.,  0.,  0.,  1., -1.,  0.],\n",
       "       [ 0.,  0.,  0.,  0.,  0.,  0., -1.,  0., -1.,  0.,  1.,  1.],\n",
       "       [ 0.,  0.,  0.,  0.,  0.,  0.,  0.,  0.,  0., -1.,  0., -1.]])"
      ]
     },
     "execution_count": 96,
     "metadata": {},
     "output_type": "execute_result"
    }
   ],
   "source": [
    "def generate_node_arc_incidence_matrix(df):\n",
    "    nodes=np.concatenate((df[\"FNode\"].as_matrix()[:], df[\"TNode\"].as_matrix()[:]))\n",
    "    nodes = np.unique(nodes)\n",
    "    NAIM = np.zeros((len(nodes), len(links_df)))\n",
    "    links = df[[\"FNode\", \"TNode\",\"Id\"]].as_matrix()\n",
    "    for fnode, tnode, idx in links:\n",
    "        NAIM[fnode][idx]=1\n",
    "        NAIM[tnode][idx]=-1\n",
    "    return NAIM\n",
    "generate_node_arc_incidence_matrix(links_df)"
   ]
  },
  {
   "cell_type": "markdown",
   "metadata": {},
   "source": [
    "## 2. Node-Node Adjacency Matrix\n",
    "The Adjacency Matrix is an N1 by N2 matrix in which each of N1 rows and N2 columns corresponds to the A-node and B-node of a given link (i,j) in the network, coded as follows: \n",
    "    \n",
    "    Cell [i,j] =\n",
    "\n",
    "    1 if link (i,j) is in the network \n",
    "    0 if link (i,j) is not in the network Matrix Properties: N2 elements, M of which are non-zero\n",
    "    \n",
    "The (row, column) location of the cell, not the value contained, indicates that the link exists; thus, the matrix can be used to store costs and/orcapacities [e.g., Cij, Lij, or Uij in cell(i,j)]\n"
   ]
  },
  {
   "cell_type": "code",
   "execution_count": 97,
   "metadata": {},
   "outputs": [
    {
     "name": "stdout",
     "output_type": "stream",
     "text": [
      "308\n",
      "196\n"
     ]
    }
   ],
   "source": [
    "NNAM_nodes = [[0,1,1,1,0,0,0],\n",
    "              [0,0,1,0,1,0,0],\n",
    "              [0,0,0,0,1,1,0],\n",
    "              [0,0,1,0,0,1,0],\n",
    "              [0,0,0,0,0,0,1],\n",
    "              [0,0,0,0,0,0,1],\n",
    "              [0,0,0,0,0,0,0]\n",
    "             ]\n",
    "NNAM_nodes = np.array(NNAM_nodes)\n",
    "print (getsizeof(NNAM_nodes))\n",
    "print (NNAM_nodes.nbytes)"
   ]
  },
  {
   "cell_type": "markdown",
   "metadata": {},
   "source": [
    "The Node-Node Adjacency Matrix has a intereteting property that enable to check network connectivity.\n",
    "For example, $A\\cdot A$ shows how each node can be reached within two connections. This implies that the matrix of $A^k$ indicates how a node is visited in k number of link trips. The number in the matrix shows the number of ways to reach the node with k connections.  "
   ]
  },
  {
   "cell_type": "code",
   "execution_count": 98,
   "metadata": {},
   "outputs": [
    {
     "data": {
      "text/plain": [
       "array([[0, 0, 2, 0, 2, 2, 0],\n",
       "       [0, 0, 0, 0, 1, 1, 1],\n",
       "       [0, 0, 0, 0, 0, 0, 2],\n",
       "       [0, 0, 0, 0, 1, 1, 1],\n",
       "       [0, 0, 0, 0, 0, 0, 0],\n",
       "       [0, 0, 0, 0, 0, 0, 0],\n",
       "       [0, 0, 0, 0, 0, 0, 0]])"
      ]
     },
     "execution_count": 98,
     "metadata": {},
     "output_type": "execute_result"
    }
   ],
   "source": [
    "np.dot(NNAM_nodes, NNAM_nodes)"
   ]
  },
  {
   "cell_type": "markdown",
   "metadata": {},
   "source": [
    "The matrix above shows $A\\cdot A$ case. In here, the value of matrix (1,2) is 2, meaning that there are two different ways to reach the node from R and A in two link trips.  "
   ]
  },
  {
   "cell_type": "markdown",
   "metadata": {},
   "source": [
    "## 3. Ladder Representation\n",
    "A network can be represented as a listing of links, typically following the ladder format: index A-Node B-Node [ tij Uij etc.] where: index = pointer for link number A-node= starting node of the link B-node= ending node of the link. Any link characteristics can be included, including link cost tij, and link capacity, Uij. The network topography is stored in two M-vectors (A-node and B-node). For traffic applications, this may be approximated as 8N. "
   ]
  },
  {
   "cell_type": "code",
   "execution_count": 99,
   "metadata": {},
   "outputs": [
    {
     "name": "stdout",
     "output_type": "stream",
     "text": [
      "    FID  Id  FNode  TNode        Dist  Cost FName TName\n",
      "0     0   0      0      1   70.710678     2     R     A\n",
      "1     1   1      0      2  150.000000     5     R     B\n",
      "2     2   2      0      3  111.803399     4     R     C\n",
      "3     3   3      1      2  111.803399     2     A     B\n",
      "4     5   4      1      4  206.155281     7     A     D\n",
      "5     6   5      2      4  100.000000     4     B     D\n",
      "6     7   6      2      5  111.803399     3     B     E\n",
      "7     4   7      3      2   70.710678     1     C     B\n",
      "8    11   8      3      5  150.000000     4     C     E\n",
      "9     9   9      4      6  104.403065     5     D     S\n",
      "10    8  10      5      4   50.000000     1     E     D\n",
      "11   10  11      5      6  128.062485     7     E     S\n",
      "2168\n"
     ]
    }
   ],
   "source": [
    "Ladder_LINK=links_df\n",
    "print (Ladder_LINK)\n",
    "print (getsizeof(Ladder_LINK))"
   ]
  },
  {
   "cell_type": "markdown",
   "metadata": {},
   "source": [
    "## 4. Foward Star Representation\n",
    "A N-vector of link origin nodes serves as pointers to a M-vector of link terminal nodes, providing an efficient network storage requirement of N+M (about 5N for traffic network applications). Each link origin node is assigned a value in the first vector which serves as a pointer to the location in the second vector corresponding to the beginning of a group of links, each with the same origin node and ordered by their terminal node. Define A-node(i) as the list of link origin nodes and B-node(j) as the list of link terminal nodes, ordered in groups by origin node. For node i, find the pointers for A-node(i) and A-node(i+1) then find the terminal node locations in list B-node(⋅) at A-node(i) to Anode(i+1)-1."
   ]
  },
  {
   "cell_type": "code",
   "execution_count": 100,
   "metadata": {},
   "outputs": [
    {
     "data": {
      "text/html": [
       "<div>\n",
       "<table border=\"1\" class=\"dataframe\">\n",
       "  <thead>\n",
       "    <tr style=\"text-align: right;\">\n",
       "      <th></th>\n",
       "      <th>FID</th>\n",
       "      <th>Id</th>\n",
       "      <th>FNode</th>\n",
       "      <th>TNode</th>\n",
       "      <th>Dist</th>\n",
       "      <th>Cost</th>\n",
       "      <th>FName</th>\n",
       "      <th>TName</th>\n",
       "    </tr>\n",
       "  </thead>\n",
       "  <tbody>\n",
       "    <tr>\n",
       "      <th>0</th>\n",
       "      <td>0</td>\n",
       "      <td>0</td>\n",
       "      <td>0</td>\n",
       "      <td>1</td>\n",
       "      <td>70.710678</td>\n",
       "      <td>2</td>\n",
       "      <td>R</td>\n",
       "      <td>A</td>\n",
       "    </tr>\n",
       "    <tr>\n",
       "      <th>1</th>\n",
       "      <td>1</td>\n",
       "      <td>1</td>\n",
       "      <td>0</td>\n",
       "      <td>2</td>\n",
       "      <td>150.000000</td>\n",
       "      <td>5</td>\n",
       "      <td>R</td>\n",
       "      <td>B</td>\n",
       "    </tr>\n",
       "    <tr>\n",
       "      <th>2</th>\n",
       "      <td>2</td>\n",
       "      <td>2</td>\n",
       "      <td>0</td>\n",
       "      <td>3</td>\n",
       "      <td>111.803399</td>\n",
       "      <td>4</td>\n",
       "      <td>R</td>\n",
       "      <td>C</td>\n",
       "    </tr>\n",
       "    <tr>\n",
       "      <th>3</th>\n",
       "      <td>3</td>\n",
       "      <td>3</td>\n",
       "      <td>1</td>\n",
       "      <td>2</td>\n",
       "      <td>111.803399</td>\n",
       "      <td>2</td>\n",
       "      <td>A</td>\n",
       "      <td>B</td>\n",
       "    </tr>\n",
       "    <tr>\n",
       "      <th>4</th>\n",
       "      <td>5</td>\n",
       "      <td>4</td>\n",
       "      <td>1</td>\n",
       "      <td>4</td>\n",
       "      <td>206.155281</td>\n",
       "      <td>7</td>\n",
       "      <td>A</td>\n",
       "      <td>D</td>\n",
       "    </tr>\n",
       "    <tr>\n",
       "      <th>5</th>\n",
       "      <td>6</td>\n",
       "      <td>5</td>\n",
       "      <td>2</td>\n",
       "      <td>4</td>\n",
       "      <td>100.000000</td>\n",
       "      <td>4</td>\n",
       "      <td>B</td>\n",
       "      <td>D</td>\n",
       "    </tr>\n",
       "    <tr>\n",
       "      <th>6</th>\n",
       "      <td>7</td>\n",
       "      <td>6</td>\n",
       "      <td>2</td>\n",
       "      <td>5</td>\n",
       "      <td>111.803399</td>\n",
       "      <td>3</td>\n",
       "      <td>B</td>\n",
       "      <td>E</td>\n",
       "    </tr>\n",
       "    <tr>\n",
       "      <th>7</th>\n",
       "      <td>4</td>\n",
       "      <td>7</td>\n",
       "      <td>3</td>\n",
       "      <td>2</td>\n",
       "      <td>70.710678</td>\n",
       "      <td>1</td>\n",
       "      <td>C</td>\n",
       "      <td>B</td>\n",
       "    </tr>\n",
       "    <tr>\n",
       "      <th>8</th>\n",
       "      <td>11</td>\n",
       "      <td>8</td>\n",
       "      <td>3</td>\n",
       "      <td>5</td>\n",
       "      <td>150.000000</td>\n",
       "      <td>4</td>\n",
       "      <td>C</td>\n",
       "      <td>E</td>\n",
       "    </tr>\n",
       "    <tr>\n",
       "      <th>9</th>\n",
       "      <td>9</td>\n",
       "      <td>9</td>\n",
       "      <td>4</td>\n",
       "      <td>6</td>\n",
       "      <td>104.403065</td>\n",
       "      <td>5</td>\n",
       "      <td>D</td>\n",
       "      <td>S</td>\n",
       "    </tr>\n",
       "    <tr>\n",
       "      <th>10</th>\n",
       "      <td>8</td>\n",
       "      <td>10</td>\n",
       "      <td>5</td>\n",
       "      <td>4</td>\n",
       "      <td>50.000000</td>\n",
       "      <td>1</td>\n",
       "      <td>E</td>\n",
       "      <td>D</td>\n",
       "    </tr>\n",
       "    <tr>\n",
       "      <th>11</th>\n",
       "      <td>10</td>\n",
       "      <td>11</td>\n",
       "      <td>5</td>\n",
       "      <td>6</td>\n",
       "      <td>128.062485</td>\n",
       "      <td>7</td>\n",
       "      <td>E</td>\n",
       "      <td>S</td>\n",
       "    </tr>\n",
       "  </tbody>\n",
       "</table>\n",
       "</div>"
      ],
      "text/plain": [
       "    FID  Id  FNode  TNode        Dist  Cost FName TName\n",
       "0     0   0      0      1   70.710678     2     R     A\n",
       "1     1   1      0      2  150.000000     5     R     B\n",
       "2     2   2      0      3  111.803399     4     R     C\n",
       "3     3   3      1      2  111.803399     2     A     B\n",
       "4     5   4      1      4  206.155281     7     A     D\n",
       "5     6   5      2      4  100.000000     4     B     D\n",
       "6     7   6      2      5  111.803399     3     B     E\n",
       "7     4   7      3      2   70.710678     1     C     B\n",
       "8    11   8      3      5  150.000000     4     C     E\n",
       "9     9   9      4      6  104.403065     5     D     S\n",
       "10    8  10      5      4   50.000000     1     E     D\n",
       "11   10  11      5      6  128.062485     7     E     S"
      ]
     },
     "execution_count": 100,
     "metadata": {},
     "output_type": "execute_result"
    }
   ],
   "source": [
    "links_df.sort_values(by=[\"FNode\"])"
   ]
  },
  {
   "cell_type": "code",
   "execution_count": 116,
   "metadata": {},
   "outputs": [
    {
     "data": {
      "text/plain": [
       "array([[  0.,   0.],\n",
       "       [  1.,   3.],\n",
       "       [  2.,   5.],\n",
       "       [  3.,   7.],\n",
       "       [  4.,   9.],\n",
       "       [  5.,  10.],\n",
       "       [  6.,  12.]])"
      ]
     },
     "execution_count": 116,
     "metadata": {},
     "output_type": "execute_result"
    }
   ],
   "source": [
    "def generate_foward_star_matrix(df):\n",
    "    df = links_df\n",
    "    nodes=np.concatenate((df[\"FNode\"].as_matrix()[:], df[\"TNode\"].as_matrix()[:]))\n",
    "    nodes = np.unique(nodes)\n",
    "    f_star = np.full((len(nodes), 2), np.inf)\n",
    "    links = df[[\"Id\", \"FNode\", \"TNode\"]].as_matrix()\n",
    "    for i in links:\n",
    "        ID, fnode, tnode = i[0], i[1],i[2]\n",
    "        if f_star[fnode][1]==np.inf:\n",
    "            f_star[fnode][0]=fnode\n",
    "            f_star[fnode][1]=ID\n",
    "    f_star[-1][0]=nodes[-1]\n",
    "    f_star[-1][1]=len(links)\n",
    "    return f_star\n",
    "generate_foward_star_matrix(links_df)"
   ]
  },
  {
   "cell_type": "markdown",
   "metadata": {},
   "source": [
    "## 5. Python Class-Dictionary Representation\n"
   ]
  },
  {
   "cell_type": "code",
   "execution_count": 118,
   "metadata": {},
   "outputs": [],
   "source": [
    "class Graph: #Data structure\n",
    "    def __init__(self):\n",
    "        self.nodes = {}\n",
    "        self.edges = {}\n",
    "        self.costs = {}"
   ]
  },
  {
   "cell_type": "code",
   "execution_count": 119,
   "metadata": {},
   "outputs": [],
   "source": [
    "def add_node(self, idx, coordinates=[], **kwargs):\n",
    "        self.nodes[idx]={}\n",
    "        if len (coordinates) >0:\n",
    "            self.nodes[idx][\"loc\"]= coordinates\n",
    "        if kwargs is not None:\n",
    "            for key, value in kwargs.items():\n",
    "                self.nodes[idx][key] = value\n",
    "Graph.add_node = add_node"
   ]
  },
  {
   "cell_type": "code",
   "execution_count": 120,
   "metadata": {},
   "outputs": [
    {
     "data": {
      "text/plain": [
       "{'A': {'index': '1', 'loc': [1, 3]}}"
      ]
     },
     "execution_count": 120,
     "metadata": {},
     "output_type": "execute_result"
    }
   ],
   "source": [
    "g = Graph()\n",
    "g.add_node(\"A\", coordinates=[1,3],index=\"1\")\n",
    "g.nodes"
   ]
  },
  {
   "cell_type": "code",
   "execution_count": 121,
   "metadata": {},
   "outputs": [],
   "source": [
    "def add_edge(self, from_node, to_node, cost=1, bidirection=False, **kwargs):\n",
    "    if not from_node in self.edges:\n",
    "        self.edges[from_node] = {}\n",
    "    if bidirection==True:\n",
    "        if not to_node in self.edges:\n",
    "            self.edges[to_node] = {}\n",
    "\n",
    "    self.edges[from_node][to_node]={\"cost\":cost}\n",
    "    if kwargs is not None:\n",
    "        for key, value in kwargs.items():\n",
    "            self.edges[from_node][to_node][key] = value\n",
    "    self.costs[(from_node, to_node)] = cost\n",
    "    if from_node not in self.nodes:\n",
    "        self.add_node(from_node)\n",
    "    if to_node not in self.nodes:\n",
    "        self.add_node(to_node)\n",
    "        \n",
    "Graph.add_edge = add_edge"
   ]
  },
  {
   "cell_type": "code",
   "execution_count": 122,
   "metadata": {},
   "outputs": [
    {
     "name": "stdout",
     "output_type": "stream",
     "text": [
      "{'A': {'B': {'distance': 2, 'cost': 1}}}\n",
      "{'A': {'loc': [1, 3], 'index': '1'}, 'B': {}}\n"
     ]
    }
   ],
   "source": [
    "g.add_edge(\"A\",\"B\",cost=1, distance=2)\n",
    "print (g.edges)\n",
    "print (g.nodes)"
   ]
  },
  {
   "cell_type": "code",
   "execution_count": 123,
   "metadata": {},
   "outputs": [
    {
     "data": {
      "text/plain": [
       "{'A': {'B': {'cost': 2}, 'D': {'cost': 7}},\n",
       " 'B': {'D': {'cost': 4}, 'E': {'cost': 3}},\n",
       " 'C': {'B': {'cost': 1}, 'E': {'cost': 4}},\n",
       " 'D': {'S': {'cost': 5}},\n",
       " 'E': {'D': {'cost': 1}, 'S': {'cost': 7}},\n",
       " 'R': {'A': {'cost': 2}, 'B': {'cost': 5}, 'C': {'cost': 4}}}"
      ]
     },
     "execution_count": 123,
     "metadata": {},
     "output_type": "execute_result"
    }
   ],
   "source": [
    "linkset = links_df[[\"FName\",\"TName\",\"Cost\"]].as_matrix()\n",
    "gh_t = Graph()\n",
    "for l in linkset:\n",
    "    snode, enode, cost = l[0],l[1], l[2]\n",
    "    gh_t.add_edge(snode, enode, cost)\n",
    "\n",
    "gh_t.edges"
   ]
  },
  {
   "cell_type": "code",
   "execution_count": null,
   "metadata": {},
   "outputs": [],
   "source": [
    ""
   ]
  }
 ],
 "metadata": {
  "kernelspec": {
   "display_name": "Python [conda env:py35]",
   "language": "python",
   "name": "conda-env-py35-py"
  },
  "language_info": {
   "codemirror_mode": {
    "name": "ipython",
    "version": 3.0
   },
   "file_extension": ".py",
   "mimetype": "text/x-python",
   "name": "python",
   "nbconvert_exporter": "python",
   "pygments_lexer": "ipython3",
   "version": "3.5.2"
  }
 },
 "nbformat": 4,
 "nbformat_minor": 0
}