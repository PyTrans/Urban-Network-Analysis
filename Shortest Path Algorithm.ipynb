{
 "cells": [
  {
   "cell_type": "markdown",
   "metadata": {},
   "source": [
    "# Shortest path algorithm\n",
    "## Dijkstra Algorithm"
   ]
  },
  {
   "cell_type": "markdown",
   "metadata": {},
   "source": [
    "Dijkstra’s Algorithm is for finding the shortest path between two graph vertices in a graph. It functions by constructing a shortest-path tree from the initial vertex to every other vertex in the graph. ( http://mathworld.wolfram.com/DijkstrasAlgorithm.html) \n",
    "\n",
    "And this is an iterative application of the dual of the one-to-one (in general, the one-to-many) shortest path mathematical program. The algorithm begins at a specified source node and successively finds the closest, second closest, and so on. It traverses all nodes from the source node until a specified destination node is reached (or until the shortest paths to all network nodes are found, Class material, CEE228A, UC Irvine). In this manner, this algorithm called a “Label setting algorithm”."
   ]
  },
  {
   "cell_type": "code",
   "execution_count": 58,
   "metadata": {},
   "outputs": [],
   "source": [
    "import pandas as pd\n",
    "import numpy as np"
   ]
  },
  {
   "cell_type": "code",
   "execution_count": 157,
   "metadata": {},
   "outputs": [
    {
     "data": {
      "text/html": [
       "<div>\n",
       "<table border=\"1\" class=\"dataframe\">\n",
       "  <thead>\n",
       "    <tr style=\"text-align: right;\">\n",
       "      <th></th>\n",
       "      <th>FID</th>\n",
       "      <th>Id</th>\n",
       "      <th>FNode</th>\n",
       "      <th>TNode</th>\n",
       "      <th>Dist</th>\n",
       "      <th>Cost</th>\n",
       "      <th>FName</th>\n",
       "      <th>TName</th>\n",
       "    </tr>\n",
       "  </thead>\n",
       "  <tbody>\n",
       "    <tr>\n",
       "      <th>0</th>\n",
       "      <td>0</td>\n",
       "      <td>0</td>\n",
       "      <td>0</td>\n",
       "      <td>1</td>\n",
       "      <td>70.710678</td>\n",
       "      <td>2.0</td>\n",
       "      <td>R</td>\n",
       "      <td>A</td>\n",
       "    </tr>\n",
       "    <tr>\n",
       "      <th>1</th>\n",
       "      <td>1</td>\n",
       "      <td>1</td>\n",
       "      <td>0</td>\n",
       "      <td>2</td>\n",
       "      <td>150.000000</td>\n",
       "      <td>5.0</td>\n",
       "      <td>R</td>\n",
       "      <td>B</td>\n",
       "    </tr>\n",
       "    <tr>\n",
       "      <th>2</th>\n",
       "      <td>2</td>\n",
       "      <td>2</td>\n",
       "      <td>0</td>\n",
       "      <td>3</td>\n",
       "      <td>111.803399</td>\n",
       "      <td>4.0</td>\n",
       "      <td>R</td>\n",
       "      <td>C</td>\n",
       "    </tr>\n",
       "    <tr>\n",
       "      <th>3</th>\n",
       "      <td>3</td>\n",
       "      <td>3</td>\n",
       "      <td>1</td>\n",
       "      <td>2</td>\n",
       "      <td>111.803399</td>\n",
       "      <td>2.0</td>\n",
       "      <td>A</td>\n",
       "      <td>B</td>\n",
       "    </tr>\n",
       "    <tr>\n",
       "      <th>4</th>\n",
       "      <td>4</td>\n",
       "      <td>4</td>\n",
       "      <td>3</td>\n",
       "      <td>2</td>\n",
       "      <td>70.710678</td>\n",
       "      <td>1.0</td>\n",
       "      <td>C</td>\n",
       "      <td>B</td>\n",
       "    </tr>\n",
       "  </tbody>\n",
       "</table>\n",
       "</div>"
      ],
      "text/plain": [
       "   FID  Id  FNode  TNode        Dist  Cost FName TName\n",
       "0    0   0      0      1   70.710678   2.0     R     A\n",
       "1    1   1      0      2  150.000000   5.0     R     B\n",
       "2    2   2      0      3  111.803399   4.0     R     C\n",
       "3    3   3      1      2  111.803399   2.0     A     B\n",
       "4    4   4      3      2   70.710678   1.0     C     B"
      ]
     },
     "execution_count": 157,
     "metadata": {},
     "output_type": "execute_result"
    }
   ],
   "source": [
    "links_df=pd.read_csv(\"./Data/Seervada Park Management\\links.csv\")\n",
    "links_df.head(5)"
   ]
  },
  {
   "cell_type": "markdown",
   "metadata": {},
   "source": [
    "<img src=\"./Data/TransportationNetworks\\Seervada Park Management\\network_cost.png\">"
   ]
  },
  {
   "cell_type": "code",
   "execution_count": 88,
   "metadata": {},
   "outputs": [],
   "source": [
    "'''\n",
    "Created on Feb 20, 2015\n",
    "\n",
    "@author: DANNY\n",
    "'''\n",
    "#Reference https://gist.github.com/econchick/4666413\n",
    "\n",
    "class Graph: #Data structure\n",
    "    def __init__(self):\n",
    "        self.nodes = {}\n",
    "        self.edges = {}\n",
    "        self.costs = {}"
   ]
  },
  {
   "cell_type": "code",
   "execution_count": 89,
   "metadata": {},
   "outputs": [],
   "source": [
    "def add_node(self, idx, coordinates=[], **kwargs):\n",
    "        self.nodes[idx]={}\n",
    "        if len (coordinates) >0:\n",
    "            self.nodes[idx][\"loc\"]= coordinates\n",
    "        if kwargs is not None:\n",
    "            for key, value in kwargs.items():\n",
    "                self.nodes[idx][key] = value\n",
    "Graph.add_node = add_node"
   ]
  },
  {
   "cell_type": "code",
   "execution_count": 90,
   "metadata": {},
   "outputs": [
    {
     "data": {
      "text/plain": [
       "{'A': {'index': '1', 'loc': [1, 3]}}"
      ]
     },
     "execution_count": 90,
     "metadata": {},
     "output_type": "execute_result"
    }
   ],
   "source": [
    "g = Graph()\n",
    "g.add_node(\"A\", coordinates=[1,3],index=\"1\")\n",
    "g.nodes"
   ]
  },
  {
   "cell_type": "code",
   "execution_count": 91,
   "metadata": {},
   "outputs": [],
   "source": [
    "def add_edge(self, from_node, to_node, cost=1, bidirection=False, **kwargs):\n",
    "    if not from_node in self.edges:\n",
    "        self.edges[from_node] = {}\n",
    "    if bidirection==True:\n",
    "        if not to_node in self.edges:\n",
    "            self.edges[to_node] = {}\n",
    "\n",
    "    self.edges[from_node][to_node]={\"cost\":cost}\n",
    "    if kwargs is not None:\n",
    "        for key, value in kwargs.items():\n",
    "            self.edges[from_node][to_node][key] = value\n",
    "    self.costs[(from_node, to_node)] = cost\n",
    "    if from_node not in self.nodes:\n",
    "        self.add_node(from_node)\n",
    "    if to_node not in self.nodes:\n",
    "        self.add_node(to_node)\n",
    "        \n",
    "Graph.add_edge = add_edge"
   ]
  },
  {
   "cell_type": "code",
   "execution_count": 92,
   "metadata": {},
   "outputs": [
    {
     "name": "stdout",
     "output_type": "stream",
     "text": [
      "{'A': {'B': {'distance': 2, 'cost': 1}}}\n",
      "{'A': {'loc': [1, 3], 'index': '1'}, 'B': {}}\n"
     ]
    }
   ],
   "source": [
    "g.add_edge(\"A\",\"B\",cost=1, distance=2)\n",
    "print (g.edges)\n",
    "print (g.nodes)"
   ]
  },
  {
   "cell_type": "code",
   "execution_count": 93,
   "metadata": {},
   "outputs": [],
   "source": [
    "class ODpath: #Results class structure\n",
    "    def __init__(self,cost, path):\n",
    "        self.cost = cost\n",
    "        self.path = path"
   ]
  },
  {
   "cell_type": "code",
   "execution_count": 94,
   "metadata": {},
   "outputs": [],
   "source": [
    "linkset = links_df[[\"FName\",\"TName\",\"Cost\"]].as_matrix()\n",
    "gh_t = Graph()\n",
    "for l in linkset:\n",
    "    snode, enode, cost = l[0],l[1], l[2]\n",
    "    gh_t.add_edge(snode, enode, cost)"
   ]
  },
  {
   "cell_type": "code",
   "execution_count": 67,
   "metadata": {},
   "outputs": [
    {
     "data": {
      "text/plain": [
       "{'A', 'B', 'C', 'D', 'E', 'R', 'S'}"
      ]
     },
     "execution_count": 67,
     "metadata": {},
     "output_type": "execute_result"
    }
   ],
   "source": [
    "set(gh_t.nodes)"
   ]
  },
  {
   "cell_type": "code",
   "execution_count": 68,
   "metadata": {},
   "outputs": [
    {
     "data": {
      "text/plain": [
       "{'A': {'B': {'cost': 2.0}, 'D': {'cost': 7.0}},\n",
       " 'B': {'D': {'cost': 4.0}, 'E': {'cost': 3.0}},\n",
       " 'C': {'B': {'cost': 1.0}, 'E': {'cost': 4.0}},\n",
       " 'D': {'S': {'cost': 5.0}},\n",
       " 'E': {'D': {'cost': 1.0}, 'S': {'cost': 7.0}},\n",
       " 'R': {'A': {'cost': 2.0}, 'B': {'cost': 5.0}, 'C': {'cost': 4.0}}}"
      ]
     },
     "execution_count": 68,
     "metadata": {},
     "output_type": "execute_result"
    }
   ],
   "source": [
    "gh_t.edges"
   ]
  },
  {
   "cell_type": "code",
   "execution_count": 144,
   "metadata": {},
   "outputs": [],
   "source": [
    "def dijsktra_source_to_all(graph, initial, verbose=False): #Dijkstra algorithm\n",
    "    visited = {initial: 0}\n",
    "    path = {}\n",
    "    try:\n",
    "        (nodes, edges) = (set(graph.nodes),graph.edges)\n",
    "        costs = graph.costs\n",
    "    except: #for NetworkX\n",
    "        (nodes, edges) = (set(graph.nodes()), graph)\n",
    "        costs = {(f,t):graph.get_edge_data(f, t)[\"weight\"] for f,t in graph.edges()}\n",
    "    while nodes:\n",
    "        if verbose == True:\n",
    "            print(\"----------------------------------\")\n",
    "        min_node = None\n",
    "        for node in nodes:\n",
    "            if node in visited:\n",
    "                if min_node is None:\n",
    "                    min_node = node\n",
    "                    if verbose ==True:\n",
    "                        print(\"Selected:\", min_node, visited[node])\n",
    "                elif visited[node] < visited[min_node]:\n",
    "                    min_node = node\n",
    "                    if verbose ==True:\n",
    "                        print(\"Selected:\", min_node, visited[node])\n",
    "        if min_node is None:\n",
    "            break\n",
    "        nodes.remove(min_node)\n",
    "        permanent = visited[min_node]\n",
    "        if min_node in edges:\n",
    "            for edge in edges[min_node]:\n",
    "                temp = permanent + costs[(min_node, edge)]\n",
    "                if edge not in visited or temp < visited[edge]:\n",
    "                    visited[edge] = temp\n",
    "                    path[edge] = min_node\n",
    "                    if verbose ==True:\n",
    "                            print(\"Permanent:\", permanent, \"i:\", min_node, \"j:\", edge,\"Link cost:\",graph.costs[(min_node, edge)], \"Temp Cost:\", visited[edge])\n",
    "    return visited, path"
   ]
  },
  {
   "cell_type": "code",
   "execution_count": 145,
   "metadata": {},
   "outputs": [
    {
     "name": "stdout",
     "output_type": "stream",
     "text": [
      "{'D', 'C', 'R', 'E', 'A', 'B', 'S'} {'C': {'E': {'cost': 4.0}, 'B': {'cost': 1.0}}, 'R': {'A': {'cost': 2.0}, 'B': {'cost': 5.0}, 'C': {'cost': 4.0}}, 'E': {'S': {'cost': 7.0}, 'D': {'cost': 1.0}}, 'B': {'E': {'cost': 3.0}, 'D': {'cost': 4.0}}, 'A': {'B': {'cost': 2.0}, 'D': {'cost': 7.0}}, 'D': {'S': {'cost': 5.0}}} {('B', 'E'): 3.0, ('A', 'B'): 2.0, ('B', 'D'): 4.0, ('C', 'B'): 1.0, ('R', 'B'): 5.0, ('R', 'A'): 2.0, ('E', 'S'): 7.0, ('E', 'D'): 1.0, ('D', 'S'): 5.0, ('C', 'E'): 4.0, ('A', 'D'): 7.0, ('R', 'C'): 4.0}\n",
      "----------------------------------\n",
      "Selected: R 0\n",
      "Permanent: 0 i: R j: A Link cost: 2.0 Temp Cost: 2.0\n",
      "Permanent: 0 i: R j: B Link cost: 5.0 Temp Cost: 5.0\n",
      "Permanent: 0 i: R j: C Link cost: 4.0 Temp Cost: 4.0\n",
      "----------------------------------\n",
      "Selected: C 4.0\n",
      "Selected: A 2.0\n",
      "Permanent: 2.0 i: A j: B Link cost: 2.0 Temp Cost: 4.0\n",
      "Permanent: 2.0 i: A j: D Link cost: 7.0 Temp Cost: 9.0\n",
      "----------------------------------\n",
      "Selected: D 9.0\n",
      "Selected: C 4.0\n",
      "Permanent: 4.0 i: C j: E Link cost: 4.0 Temp Cost: 8.0\n",
      "----------------------------------\n",
      "Selected: D 9.0\n",
      "Selected: E 8.0\n",
      "Selected: B 4.0\n",
      "Permanent: 4.0 i: B j: E Link cost: 3.0 Temp Cost: 7.0\n",
      "Permanent: 4.0 i: B j: D Link cost: 4.0 Temp Cost: 8.0\n",
      "----------------------------------\n",
      "Selected: D 8.0\n",
      "Selected: E 7.0\n",
      "Permanent: 7.0 i: E j: S Link cost: 7.0 Temp Cost: 14.0\n",
      "----------------------------------\n",
      "Selected: D 8.0\n",
      "Permanent: 8.0 i: D j: S Link cost: 5.0 Temp Cost: 13.0\n",
      "----------------------------------\n",
      "Selected: S 13.0\n"
     ]
    }
   ],
   "source": [
    "visited, path= dijsktra_source_to_all(gh_t, \"R\", verbose=True)"
   ]
  },
  {
   "cell_type": "code",
   "execution_count": 146,
   "metadata": {},
   "outputs": [
    {
     "data": {
      "text/plain": [
       "({'A': 2.0, 'B': 4.0, 'C': 4.0, 'D': 8.0, 'E': 7.0, 'R': 0, 'S': 13.0},\n",
       " {'A': 'R', 'B': 'A', 'C': 'R', 'D': 'B', 'E': 'B', 'S': 'D'})"
      ]
     },
     "execution_count": 146,
     "metadata": {},
     "output_type": "execute_result"
    }
   ],
   "source": [
    "visited, path"
   ]
  },
  {
   "cell_type": "code",
   "execution_count": 147,
   "metadata": {},
   "outputs": [],
   "source": [
    "def getTrajectory_O_to_D(origin, destination, path):\n",
    "    j=destination\n",
    "    rtrajectory = [j]\n",
    "    prenode = j\n",
    "    for k in range(0,len(path)):\n",
    "        if prenode != origin:\n",
    "            nextnode=path[prenode]\n",
    "            if nextnode==origin:\n",
    "                rtrajectory.append(nextnode)\n",
    "                break\n",
    "            rtrajectory.append(nextnode)\n",
    "            prenode=nextnode\n",
    "    rtrajectory.reverse()   \n",
    "    return rtrajectory"
   ]
  },
  {
   "cell_type": "code",
   "execution_count": 148,
   "metadata": {},
   "outputs": [],
   "source": [
    "def dijkstra_result(gh_t, origin=1, destination=False, verbose=False):\n",
    "    visited, path= dijsktra_source_to_all(gh_t, origin, verbose=verbose)\n",
    "    results = {}\n",
    "    if destination==False:\n",
    "        for i in visited:\n",
    "            cost = visited[i]\n",
    "            trajectory = getTrajectory_O_to_D(origin, i, path)\n",
    "            results[i] = {\"cost\":cost, \"path\":trajectory}\n",
    "    else:\n",
    "        cost = visited[destination]\n",
    "        trajectory = getTrajectory_to_D(origin, destination, path)\n",
    "        results[destination] = {\"cost\":cost, \"path\":trajectory}\n",
    "    return results"
   ]
  },
  {
   "cell_type": "code",
   "execution_count": 149,
   "metadata": {},
   "outputs": [
    {
     "name": "stdout",
     "output_type": "stream",
     "text": [
      "{'D', 'C', 'R', 'E', 'A', 'B', 'S'} {'C': {'E': {'cost': 4.0}, 'B': {'cost': 1.0}}, 'R': {'A': {'cost': 2.0}, 'B': {'cost': 5.0}, 'C': {'cost': 4.0}}, 'E': {'S': {'cost': 7.0}, 'D': {'cost': 1.0}}, 'B': {'E': {'cost': 3.0}, 'D': {'cost': 4.0}}, 'A': {'B': {'cost': 2.0}, 'D': {'cost': 7.0}}, 'D': {'S': {'cost': 5.0}}} {('B', 'E'): 3.0, ('A', 'B'): 2.0, ('B', 'D'): 4.0, ('C', 'B'): 1.0, ('R', 'B'): 5.0, ('R', 'A'): 2.0, ('E', 'S'): 7.0, ('E', 'D'): 1.0, ('D', 'S'): 5.0, ('C', 'E'): 4.0, ('A', 'D'): 7.0, ('R', 'C'): 4.0}\n",
      "{'C': {'path': ['R', 'C'], 'cost': 4.0}, 'R': {'path': ['R'], 'cost': 0}, 'D': {'path': ['R', 'A', 'B', 'D'], 'cost': 8.0}, 'A': {'path': ['R', 'A'], 'cost': 2.0}, 'B': {'path': ['R', 'A', 'B'], 'cost': 4.0}, 'E': {'path': ['R', 'A', 'B', 'E'], 'cost': 7.0}, 'S': {'path': ['R', 'A', 'B', 'D', 'S'], 'cost': 13.0}}\n"
     ]
    }
   ],
   "source": [
    "onetoall=dijkstra_result(gh_t, origin=\"R\", verbose=False)\n",
    "print(onetoall)"
   ]
  },
  {
   "cell_type": "code",
   "execution_count": 150,
   "metadata": {},
   "outputs": [
    {
     "data": {
      "text/plain": [
       "{'cost': 13.0, 'path': ['R', 'A', 'B', 'D', 'S']}"
      ]
     },
     "execution_count": 150,
     "metadata": {},
     "output_type": "execute_result"
    }
   ],
   "source": [
    "onetoall[\"S\"]"
   ]
  },
  {
   "cell_type": "code",
   "execution_count": 151,
   "metadata": {},
   "outputs": [
    {
     "name": "stdout",
     "output_type": "stream",
     "text": [
      "O:R_________________________________\n",
      "{'D', 'C', 'R', 'E', 'A', 'B', 'S'} {'C': {'E': {'cost': 4.0}, 'B': {'cost': 1.0}}, 'R': {'A': {'cost': 2.0}, 'B': {'cost': 5.0}, 'C': {'cost': 4.0}}, 'E': {'S': {'cost': 7.0}, 'D': {'cost': 1.0}}, 'B': {'E': {'cost': 3.0}, 'D': {'cost': 4.0}}, 'A': {'B': {'cost': 2.0}, 'D': {'cost': 7.0}}, 'D': {'S': {'cost': 5.0}}} {('B', 'E'): 3.0, ('A', 'B'): 2.0, ('B', 'D'): 4.0, ('C', 'B'): 1.0, ('R', 'B'): 5.0, ('R', 'A'): 2.0, ('E', 'S'): 7.0, ('E', 'D'): 1.0, ('D', 'S'): 5.0, ('C', 'E'): 4.0, ('A', 'D'): 7.0, ('R', 'C'): 4.0}\n",
      "{'C': {'path': ['R', 'C'], 'cost': 4.0}, 'R': {'path': ['R'], 'cost': 0}, 'D': {'path': ['R', 'A', 'B', 'D'], 'cost': 8.0}, 'A': {'path': ['R', 'A'], 'cost': 2.0}, 'B': {'path': ['R', 'A', 'B'], 'cost': 4.0}, 'E': {'path': ['R', 'A', 'B', 'E'], 'cost': 7.0}, 'S': {'path': ['R', 'A', 'B', 'D', 'S'], 'cost': 13.0}}\n",
      "O:A_________________________________\n",
      "{'D', 'C', 'R', 'E', 'A', 'B', 'S'} {'C': {'E': {'cost': 4.0}, 'B': {'cost': 1.0}}, 'R': {'A': {'cost': 2.0}, 'B': {'cost': 5.0}, 'C': {'cost': 4.0}}, 'E': {'S': {'cost': 7.0}, 'D': {'cost': 1.0}}, 'B': {'E': {'cost': 3.0}, 'D': {'cost': 4.0}}, 'A': {'B': {'cost': 2.0}, 'D': {'cost': 7.0}}, 'D': {'S': {'cost': 5.0}}} {('B', 'E'): 3.0, ('A', 'B'): 2.0, ('B', 'D'): 4.0, ('C', 'B'): 1.0, ('R', 'B'): 5.0, ('R', 'A'): 2.0, ('E', 'S'): 7.0, ('E', 'D'): 1.0, ('D', 'S'): 5.0, ('C', 'E'): 4.0, ('A', 'D'): 7.0, ('R', 'C'): 4.0}\n",
      "{'D': {'path': ['A', 'B', 'D'], 'cost': 6.0}, 'A': {'path': ['A'], 'cost': 0}, 'B': {'path': ['A', 'B'], 'cost': 2.0}, 'E': {'path': ['A', 'B', 'E'], 'cost': 5.0}, 'S': {'path': ['A', 'B', 'D', 'S'], 'cost': 11.0}}\n",
      "O:B_________________________________\n",
      "{'D', 'C', 'R', 'E', 'A', 'B', 'S'} {'C': {'E': {'cost': 4.0}, 'B': {'cost': 1.0}}, 'R': {'A': {'cost': 2.0}, 'B': {'cost': 5.0}, 'C': {'cost': 4.0}}, 'E': {'S': {'cost': 7.0}, 'D': {'cost': 1.0}}, 'B': {'E': {'cost': 3.0}, 'D': {'cost': 4.0}}, 'A': {'B': {'cost': 2.0}, 'D': {'cost': 7.0}}, 'D': {'S': {'cost': 5.0}}} {('B', 'E'): 3.0, ('A', 'B'): 2.0, ('B', 'D'): 4.0, ('C', 'B'): 1.0, ('R', 'B'): 5.0, ('R', 'A'): 2.0, ('E', 'S'): 7.0, ('E', 'D'): 1.0, ('D', 'S'): 5.0, ('C', 'E'): 4.0, ('A', 'D'): 7.0, ('R', 'C'): 4.0}\n",
      "{'E': {'path': ['B', 'E'], 'cost': 3.0}, 'B': {'path': ['B'], 'cost': 0}, 'D': {'path': ['B', 'D'], 'cost': 4.0}, 'S': {'path': ['B', 'D', 'S'], 'cost': 9.0}}\n",
      "O:C_________________________________\n",
      "{'D', 'C', 'R', 'E', 'A', 'B', 'S'} {'C': {'E': {'cost': 4.0}, 'B': {'cost': 1.0}}, 'R': {'A': {'cost': 2.0}, 'B': {'cost': 5.0}, 'C': {'cost': 4.0}}, 'E': {'S': {'cost': 7.0}, 'D': {'cost': 1.0}}, 'B': {'E': {'cost': 3.0}, 'D': {'cost': 4.0}}, 'A': {'B': {'cost': 2.0}, 'D': {'cost': 7.0}}, 'D': {'S': {'cost': 5.0}}} {('B', 'E'): 3.0, ('A', 'B'): 2.0, ('B', 'D'): 4.0, ('C', 'B'): 1.0, ('R', 'B'): 5.0, ('R', 'A'): 2.0, ('E', 'S'): 7.0, ('E', 'D'): 1.0, ('D', 'S'): 5.0, ('C', 'E'): 4.0, ('A', 'D'): 7.0, ('R', 'C'): 4.0}\n",
      "{'D': {'path': ['C', 'B', 'D'], 'cost': 5.0}, 'E': {'path': ['C', 'E'], 'cost': 4.0}, 'B': {'path': ['C', 'B'], 'cost': 1.0}, 'C': {'path': ['C'], 'cost': 0}, 'S': {'path': ['C', 'B', 'D', 'S'], 'cost': 10.0}}\n",
      "O:D_________________________________\n",
      "{'D', 'C', 'R', 'E', 'A', 'B', 'S'} {'C': {'E': {'cost': 4.0}, 'B': {'cost': 1.0}}, 'R': {'A': {'cost': 2.0}, 'B': {'cost': 5.0}, 'C': {'cost': 4.0}}, 'E': {'S': {'cost': 7.0}, 'D': {'cost': 1.0}}, 'B': {'E': {'cost': 3.0}, 'D': {'cost': 4.0}}, 'A': {'B': {'cost': 2.0}, 'D': {'cost': 7.0}}, 'D': {'S': {'cost': 5.0}}} {('B', 'E'): 3.0, ('A', 'B'): 2.0, ('B', 'D'): 4.0, ('C', 'B'): 1.0, ('R', 'B'): 5.0, ('R', 'A'): 2.0, ('E', 'S'): 7.0, ('E', 'D'): 1.0, ('D', 'S'): 5.0, ('C', 'E'): 4.0, ('A', 'D'): 7.0, ('R', 'C'): 4.0}\n",
      "{'D': {'path': ['D'], 'cost': 0}, 'S': {'path': ['D', 'S'], 'cost': 5.0}}\n",
      "O:E_________________________________\n",
      "{'D', 'C', 'R', 'E', 'A', 'B', 'S'} {'C': {'E': {'cost': 4.0}, 'B': {'cost': 1.0}}, 'R': {'A': {'cost': 2.0}, 'B': {'cost': 5.0}, 'C': {'cost': 4.0}}, 'E': {'S': {'cost': 7.0}, 'D': {'cost': 1.0}}, 'B': {'E': {'cost': 3.0}, 'D': {'cost': 4.0}}, 'A': {'B': {'cost': 2.0}, 'D': {'cost': 7.0}}, 'D': {'S': {'cost': 5.0}}} {('B', 'E'): 3.0, ('A', 'B'): 2.0, ('B', 'D'): 4.0, ('C', 'B'): 1.0, ('R', 'B'): 5.0, ('R', 'A'): 2.0, ('E', 'S'): 7.0, ('E', 'D'): 1.0, ('D', 'S'): 5.0, ('C', 'E'): 4.0, ('A', 'D'): 7.0, ('R', 'C'): 4.0}\n",
      "{'E': {'path': ['E'], 'cost': 0}, 'S': {'path': ['E', 'D', 'S'], 'cost': 6.0}, 'D': {'path': ['E', 'D'], 'cost': 1.0}}\n",
      "O:S_________________________________\n",
      "{'D', 'C', 'R', 'E', 'A', 'B', 'S'} {'C': {'E': {'cost': 4.0}, 'B': {'cost': 1.0}}, 'R': {'A': {'cost': 2.0}, 'B': {'cost': 5.0}, 'C': {'cost': 4.0}}, 'E': {'S': {'cost': 7.0}, 'D': {'cost': 1.0}}, 'B': {'E': {'cost': 3.0}, 'D': {'cost': 4.0}}, 'A': {'B': {'cost': 2.0}, 'D': {'cost': 7.0}}, 'D': {'S': {'cost': 5.0}}} {('B', 'E'): 3.0, ('A', 'B'): 2.0, ('B', 'D'): 4.0, ('C', 'B'): 1.0, ('R', 'B'): 5.0, ('R', 'A'): 2.0, ('E', 'S'): 7.0, ('E', 'D'): 1.0, ('D', 'S'): 5.0, ('C', 'E'): 4.0, ('A', 'D'): 7.0, ('R', 'C'): 4.0}\n",
      "{'S': {'path': ['S'], 'cost': 0}}\n"
     ]
    }
   ],
   "source": [
    "pathset = {}\n",
    "originset = [\"R\",\"A\",\"B\",\"C\",\"D\",\"E\",\"S\"]\n",
    "Results = {}\n",
    "for o in originset:\n",
    "    print((\"O:%s_________________________________\")%o)\n",
    "    Results[o]=dijkstra_result(gh_t, origin=o)\n",
    "    print (Results[o])"
   ]
  },
  {
   "cell_type": "code",
   "execution_count": 152,
   "metadata": {},
   "outputs": [
    {
     "data": {
      "text/plain": [
       "{'cost': 2.0, 'path': ['A', 'B']}"
      ]
     },
     "execution_count": 152,
     "metadata": {},
     "output_type": "execute_result"
    }
   ],
   "source": [
    "Results[\"A\"][\"B\"]"
   ]
  },
  {
   "cell_type": "markdown",
   "metadata": {},
   "source": [
    "## Network X\n",
    "\n",
    "NetworkX is a Python package for the creation, manipulation, and study of the structure, dynamics, and functions of complex networks.\n",
    "### Features\n",
    "- Data structures for graphs, digraphs, and multigraphs\n",
    "- Many standard graph algorithms\n",
    "- Network structure and analysis measures\n",
    "- Generators for classic graphs, random graphs, and synthetic networks\n",
    "- Nodes can be \"anything\" (e.g., text, images, XML records)\n",
    "- Edges can hold arbitrary data (e.g., weights, time-series)\n",
    "- Open source 3-clause BSD license\n",
    "- Well tested with over 90% code coverage\n",
    "- Additional benefits from Python include fast prototyping, easy to teach, and multi-platform"
   ]
  },
  {
   "cell_type": "code",
   "execution_count": 153,
   "metadata": {},
   "outputs": [],
   "source": [
    "import networkx as nx\n",
    "G = nx.DiGraph()\n",
    "Id=1\n",
    "for l in linkset:\n",
    "    snode, enode, cost = l[0],l[1], l[2]\n",
    "    G.add_edge(snode, enode, weight=cost, ID=Id, generalized_cost = cost*2)\n",
    "    Id+=1"
   ]
  },
  {
   "cell_type": "code",
   "execution_count": 156,
   "metadata": {},
   "outputs": [
    {
     "name": "stdout",
     "output_type": "stream",
     "text": [
      "{'C', 'R', 'E', 'A', 'B', 'S', 'D'}  {('B', 'E'): 3.0, ('C', 'E'): 4.0, ('B', 'D'): 4.0, ('C', 'B'): 1.0, ('R', 'B'): 5.0, ('R', 'A'): 2.0, ('E', 'S'): 7.0, ('E', 'D'): 1.0, ('D', 'S'): 5.0, ('A', 'B'): 2.0, ('A', 'D'): 7.0, ('R', 'C'): 4.0}\n"
     ]
    },
    {
     "data": {
      "text/plain": [
       "({'A': 2.0, 'B': 4.0, 'C': 4.0, 'D': 8.0, 'E': 7.0, 'R': 0, 'S': 13.0},\n",
       " {'A': 'R', 'B': 'A', 'C': 'R', 'D': 'B', 'E': 'B', 'S': 'D'})"
      ]
     },
     "execution_count": 156,
     "metadata": {},
     "output_type": "execute_result"
    }
   ],
   "source": [
    "dijsktra_source_to_all(G, \"R\", verbose=False)"
   ]
  },
  {
   "cell_type": "code",
   "execution_count": 48,
   "metadata": {},
   "outputs": [
    {
     "data": {
      "text/plain": [
       "[1, 3.0, 2.0, 5.0]"
      ]
     },
     "execution_count": 48,
     "metadata": {},
     "output_type": "execute_result"
    }
   ],
   "source": [
    "nx.dijkstra_path(G,1, 5, \"weight\")"
   ]
  },
  {
   "cell_type": "code",
   "execution_count": 49,
   "metadata": {},
   "outputs": [
    {
     "data": {
      "text/plain": [
       "3.5"
      ]
     },
     "execution_count": 49,
     "metadata": {},
     "output_type": "execute_result"
    }
   ],
   "source": [
    "nx.dijkstra_path_length(G,1, 5, \"weight\")"
   ]
  },
  {
   "cell_type": "code",
   "execution_count": 50,
   "metadata": {},
   "outputs": [
    {
     "data": {
      "text/plain": [
       "({1: 0,\n",
       "  2.0: 2.5,\n",
       "  3.0: 2.1000000000000001,\n",
       "  4.0: 3.5,\n",
       "  5.0: 3.5,\n",
       "  6.0: 3.2000000000000002,\n",
       "  7.0: 3.6000000000000001},\n",
       " {1: [1],\n",
       "  2.0: [1, 3.0, 2.0],\n",
       "  3.0: [1, 3.0],\n",
       "  4.0: [1, 4.0],\n",
       "  5.0: [1, 3.0, 2.0, 5.0],\n",
       "  6.0: [1, 3.0, 6.0],\n",
       "  7.0: [1, 7.0]})"
      ]
     },
     "execution_count": 50,
     "metadata": {},
     "output_type": "execute_result"
    }
   ],
   "source": [
    "nx.single_source_dijkstra(G,1, weight=\"weight\")"
   ]
  },
  {
   "cell_type": "code",
   "execution_count": 51,
   "metadata": {},
   "outputs": [
    {
     "data": {
      "text/plain": [
       "{1.0: {1.0: [1.0],\n",
       "  2.0: [1.0, 3.0, 2.0],\n",
       "  3.0: [1.0, 3.0],\n",
       "  4.0: [1.0, 4.0],\n",
       "  5.0: [1.0, 3.0, 2.0, 5.0],\n",
       "  6.0: [1.0, 3.0, 6.0],\n",
       "  7.0: [1.0, 7.0]},\n",
       " 2.0: {1.0: [2.0, 3.0, 1.0],\n",
       "  2.0: [2.0],\n",
       "  3.0: [2.0, 3.0],\n",
       "  4.0: [2.0, 4.0],\n",
       "  5.0: [2.0, 5.0],\n",
       "  6.0: [2.0, 3.0, 6.0],\n",
       "  7.0: [2.0, 5.0, 7.0]},\n",
       " 3.0: {1.0: [3.0, 1.0],\n",
       "  2.0: [3.0, 2.0],\n",
       "  3.0: [3.0],\n",
       "  4.0: [3.0, 2.0, 4.0],\n",
       "  5.0: [3.0, 2.0, 5.0],\n",
       "  6.0: [3.0, 6.0],\n",
       "  7.0: [3.0, 2.0, 5.0, 7.0]},\n",
       " 4.0: {1.0: [4.0, 1.0],\n",
       "  2.0: [4.0, 2.0],\n",
       "  3.0: [4.0, 2.0, 3.0],\n",
       "  4.0: [4.0],\n",
       "  5.0: [4.0, 5.0],\n",
       "  6.0: [4.0, 5.0, 6.0],\n",
       "  7.0: [4.0, 5.0, 7.0]},\n",
       " 5.0: {1.0: [5.0, 2.0, 3.0, 1.0],\n",
       "  2.0: [5.0, 2.0],\n",
       "  3.0: [5.0, 2.0, 3.0],\n",
       "  4.0: [5.0, 4.0],\n",
       "  5.0: [5.0],\n",
       "  6.0: [5.0, 6.0],\n",
       "  7.0: [5.0, 7.0]},\n",
       " 6.0: {1.0: [6.0, 3.0, 1.0],\n",
       "  2.0: [6.0, 3.0, 2.0],\n",
       "  3.0: [6.0, 3.0],\n",
       "  4.0: [6.0, 3.0, 2.0, 4.0],\n",
       "  5.0: [6.0, 5.0],\n",
       "  6.0: [6.0],\n",
       "  7.0: [6.0, 7.0]},\n",
       " 7.0: {1.0: [7.0, 1.0],\n",
       "  2.0: [7.0, 5.0, 2.0],\n",
       "  3.0: [7.0, 5.0, 2.0, 3.0],\n",
       "  4.0: [7.0, 5.0, 4.0],\n",
       "  5.0: [7.0, 5.0],\n",
       "  6.0: [7.0, 6.0],\n",
       "  7.0: [7.0]}}"
      ]
     },
     "execution_count": 51,
     "metadata": {},
     "output_type": "execute_result"
    }
   ],
   "source": [
    "nx.all_pairs_dijkstra_path(G, weight=\"weight\")"
   ]
  },
  {
   "cell_type": "code",
   "execution_count": 52,
   "metadata": {},
   "outputs": [
    {
     "data": {
      "image/png": "[encoded data removed]",
      "text/plain": [
       "<matplotlib.figure.Figure at 0x27ecfa43cc0>"
      ]
     },
     "metadata": {},
     "output_type": "display_data"
    }
   ],
   "source": [
    "import matplotlib.pyplot as plt\n",
    "\n",
    "nx.draw_networkx_nodes(G,pos,node_size=200)\n",
    "nx.draw_networkx_edges(G, pos)\n",
    "nx.draw_networkx_labels(G, pos)\n",
    "plt.show()"
   ]
  }
 ],
 "metadata": {
  "anaconda-cloud": {},
  "kernelspec": {
   "display_name": "Python [conda env:py35]",
   "language": "python",
   "name": "conda-env-py35-py"
  },
  "language_info": {
   "codemirror_mode": {
    "name": "ipython",
    "version": 3.0
   },
   "file_extension": ".py",
   "mimetype": "text/x-python",
   "name": "python",
   "nbconvert_exporter": "python",
   "pygments_lexer": "ipython3",
   "version": "3.5.2"
  }
 },
 "nbformat": 4,
 "nbformat_minor": 0
}