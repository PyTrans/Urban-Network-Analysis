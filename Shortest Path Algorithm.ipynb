{
 "cells": [
  {
   "cell_type": "markdown",
   "metadata": {},
   "source": [
    "# Shortest path algorithm\n",
    "## Dijkstra Algorithm"
   ]
  },
  {
   "cell_type": "markdown",
   "metadata": {},
   "source": [
    "Dijkstra’s Algorithm is for finding the shortest path between two graph vertices in a graph. It functions by constructing a shortest-path tree from the initial vertex to every other vertex in the graph. ( http://mathworld.wolfram.com/DijkstrasAlgorithm.html) \n",
    "\n",
    "And this is an iterative application of the dual of the one-to-one (in general, the one-to-many) shortest path mathematical program. The algorithm begins at a specified source node and successively finds the closest, second closest, and so on. It traverses all nodes from the source node until a specified destination node is reached (or until the shortest paths to all network nodes are found, Class material, CEE228A, UC Irvine). In this manner, this algorithm called a “Label setting algorithm”."
   ]
  },
  {
   "cell_type": "code",
   "execution_count": 3,
   "metadata": {},
   "outputs": [],
   "source": [
    "import pandas as pd\n",
    "import numpy as np\n"
   ]
  },
  {
   "cell_type": "markdown",
   "metadata": {},
   "source": [
    "<img src=\\\"./Data/TransportationNetworks/Seervada Park Management/network_cost.png\">"
   ]
  },
  {
   "cell_type": "code",
   "execution_count": 5,
   "metadata": {},
   "outputs": [
    {
     "data": {
      "text/html": [
       "<div>\n",
       "<table border=\"1\" class=\"dataframe\">\n",
       "  <thead>\n",
       "    <tr style=\"text-align: right;\">\n",
       "      <th></th>\n",
       "      <th>FID</th>\n",
       "      <th>Id</th>\n",
       "      <th>FNode</th>\n",
       "      <th>TNode</th>\n",
       "      <th>Dist</th>\n",
       "      <th>Cost</th>\n",
       "      <th>FName</th>\n",
       "      <th>TName</th>\n",
       "    </tr>\n",
       "  </thead>\n",
       "  <tbody>\n",
       "    <tr>\n",
       "      <th>0</th>\n",
       "      <td>0</td>\n",
       "      <td>0</td>\n",
       "      <td>0</td>\n",
       "      <td>1</td>\n",
       "      <td>70.710678</td>\n",
       "      <td>2</td>\n",
       "      <td>R</td>\n",
       "      <td>A</td>\n",
       "    </tr>\n",
       "    <tr>\n",
       "      <th>1</th>\n",
       "      <td>1</td>\n",
       "      <td>1</td>\n",
       "      <td>0</td>\n",
       "      <td>2</td>\n",
       "      <td>150.000000</td>\n",
       "      <td>5</td>\n",
       "      <td>R</td>\n",
       "      <td>B</td>\n",
       "    </tr>\n",
       "    <tr>\n",
       "      <th>2</th>\n",
       "      <td>2</td>\n",
       "      <td>2</td>\n",
       "      <td>0</td>\n",
       "      <td>3</td>\n",
       "      <td>111.803399</td>\n",
       "      <td>4</td>\n",
       "      <td>R</td>\n",
       "      <td>C</td>\n",
       "    </tr>\n",
       "    <tr>\n",
       "      <th>3</th>\n",
       "      <td>3</td>\n",
       "      <td>3</td>\n",
       "      <td>1</td>\n",
       "      <td>2</td>\n",
       "      <td>111.803399</td>\n",
       "      <td>2</td>\n",
       "      <td>A</td>\n",
       "      <td>B</td>\n",
       "    </tr>\n",
       "    <tr>\n",
       "      <th>4</th>\n",
       "      <td>5</td>\n",
       "      <td>4</td>\n",
       "      <td>1</td>\n",
       "      <td>4</td>\n",
       "      <td>206.155281</td>\n",
       "      <td>7</td>\n",
       "      <td>A</td>\n",
       "      <td>D</td>\n",
       "    </tr>\n",
       "  </tbody>\n",
       "</table>\n",
       "</div>"
      ],
      "text/plain": [
       "<div>\n",
       "<table border=\"1\" class=\"dataframe\">\n",
       "  <thead>\n",
       "    <tr style=\"text-align: right;\">\n",
       "      <th></th>\n",
       "      <th>FID</th>\n",
       "      <th>Id</th>\n",
       "      <th>FNode</th>\n",
       "      <th>TNode</th>\n",
       "      <th>Dist</th>\n",
       "      <th>Cost</th>\n",
       "      <th>FName</th>\n",
       "      <th>TName</th>\n",
       "    </tr>\n",
       "  </thead>\n",
       "  <tbody>\n",
       "    <tr>\n",
       "      <th>0</th>\n",
       "      <td>0</td>\n",
       "      <td>0</td>\n",
       "      <td>0</td>\n",
       "      <td>1</td>\n",
       "      <td>70.710678</td>\n",
       "      <td>2</td>\n",
       "      <td>R</td>\n",
       "      <td>A</td>\n",
       "    </tr>\n",
       "    <tr>\n",
       "      <th>1</th>\n",
       "      <td>1</td>\n",
       "      <td>1</td>\n",
       "      <td>0</td>\n",
       "      <td>2</td>\n",
       "      <td>150.000000</td>\n",
       "      <td>5</td>\n",
       "      <td>R</td>\n",
       "      <td>B</td>\n",
       "    </tr>\n",
       "    <tr>\n",
       "      <th>2</th>\n",
       "      <td>2</td>\n",
       "      <td>2</td>\n",
       "      <td>0</td>\n",
       "      <td>3</td>\n",
       "      <td>111.803399</td>\n",
       "      <td>4</td>\n",
       "      <td>R</td>\n",
       "      <td>C</td>\n",
       "    </tr>\n",
       "    <tr>\n",
       "      <th>3</th>\n",
       "      <td>3</td>\n",
       "      <td>3</td>\n",
       "      <td>1</td>\n",
       "      <td>2</td>\n",
       "      <td>111.803399</td>\n",
       "      <td>2</td>\n",
       "      <td>A</td>\n",
       "      <td>B</td>\n",
       "    </tr>\n",
       "    <tr>\n",
       "      <th>4</th>\n",
       "      <td>5</td>\n",
       "      <td>4</td>\n",
       "      <td>1</td>\n",
       "      <td>4</td>\n",
       "      <td>206.155281</td>\n",
       "      <td>7</td>\n",
       "      <td>A</td>\n",
       "      <td>D</td>\n",
       "    </tr>\n",
       "  </tbody>\n",
       "</table>\n",
       "</div>"
      ]
     },
     "execution_count": 5,
     "metadata": {},
     "output_type": "execute_result"
    }
   ],
   "source": [
    "links_df=pd.read_csv(\"./Data/TransportationNetworks/Seervada Park Management/links.csv\")\n",
    "links_df.head(5)"
   ]
  },
  {
   "cell_type": "code",
   "execution_count": 39,
   "metadata": {},
   "outputs": [
    {
     "data": {
      "text/html": [
       "<div>\n",
       "<table border=\"1\" class=\"dataframe\">\n",
       "  <thead>\n",
       "    <tr style=\"text-align: right;\">\n",
       "      <th></th>\n",
       "      <th>FID</th>\n",
       "      <th>FID_</th>\n",
       "      <th>Id</th>\n",
       "      <th>Name</th>\n",
       "      <th>X</th>\n",
       "      <th>Y</th>\n",
       "    </tr>\n",
       "  </thead>\n",
       "  <tbody>\n",
       "    <tr>\n",
       "      <th>0</th>\n",
       "      <td>0</td>\n",
       "      <td>0</td>\n",
       "      <td>0</td>\n",
       "      <td>R</td>\n",
       "      <td>0</td>\n",
       "      <td>50</td>\n",
       "    </tr>\n",
       "    <tr>\n",
       "      <th>1</th>\n",
       "      <td>1</td>\n",
       "      <td>1</td>\n",
       "      <td>1</td>\n",
       "      <td>A</td>\n",
       "      <td>50</td>\n",
       "      <td>100</td>\n",
       "    </tr>\n",
       "    <tr>\n",
       "      <th>2</th>\n",
       "      <td>2</td>\n",
       "      <td>2</td>\n",
       "      <td>2</td>\n",
       "      <td>B</td>\n",
       "      <td>150</td>\n",
       "      <td>50</td>\n",
       "    </tr>\n",
       "    <tr>\n",
       "      <th>3</th>\n",
       "      <td>3</td>\n",
       "      <td>3</td>\n",
       "      <td>3</td>\n",
       "      <td>C</td>\n",
       "      <td>100</td>\n",
       "      <td>0</td>\n",
       "    </tr>\n",
       "    <tr>\n",
       "      <th>4</th>\n",
       "      <td>4</td>\n",
       "      <td>4</td>\n",
       "      <td>4</td>\n",
       "      <td>D</td>\n",
       "      <td>250</td>\n",
       "      <td>50</td>\n",
       "    </tr>\n",
       "    <tr>\n",
       "      <th>5</th>\n",
       "      <td>5</td>\n",
       "      <td>5</td>\n",
       "      <td>5</td>\n",
       "      <td>E</td>\n",
       "      <td>250</td>\n",
       "      <td>0</td>\n",
       "    </tr>\n",
       "    <tr>\n",
       "      <th>6</th>\n",
       "      <td>6</td>\n",
       "      <td>6</td>\n",
       "      <td>6</td>\n",
       "      <td>S</td>\n",
       "      <td>350</td>\n",
       "      <td>80</td>\n",
       "    </tr>\n",
       "  </tbody>\n",
       "</table>\n",
       "</div>"
      ],
      "text/plain": [
       "<div>\n",
       "<table border=\"1\" class=\"dataframe\">\n",
       "  <thead>\n",
       "    <tr style=\"text-align: right;\">\n",
       "      <th></th>\n",
       "      <th>FID</th>\n",
       "      <th>FID_</th>\n",
       "      <th>Id</th>\n",
       "      <th>Name</th>\n",
       "      <th>X</th>\n",
       "      <th>Y</th>\n",
       "    </tr>\n",
       "  </thead>\n",
       "  <tbody>\n",
       "    <tr>\n",
       "      <th>0</th>\n",
       "      <td>0</td>\n",
       "      <td>0</td>\n",
       "      <td>0</td>\n",
       "      <td>R</td>\n",
       "      <td>0</td>\n",
       "      <td>50</td>\n",
       "    </tr>\n",
       "    <tr>\n",
       "      <th>1</th>\n",
       "      <td>1</td>\n",
       "      <td>1</td>\n",
       "      <td>1</td>\n",
       "      <td>A</td>\n",
       "      <td>50</td>\n",
       "      <td>100</td>\n",
       "    </tr>\n",
       "    <tr>\n",
       "      <th>2</th>\n",
       "      <td>2</td>\n",
       "      <td>2</td>\n",
       "      <td>2</td>\n",
       "      <td>B</td>\n",
       "      <td>150</td>\n",
       "      <td>50</td>\n",
       "    </tr>\n",
       "    <tr>\n",
       "      <th>3</th>\n",
       "      <td>3</td>\n",
       "      <td>3</td>\n",
       "      <td>3</td>\n",
       "      <td>C</td>\n",
       "      <td>100</td>\n",
       "      <td>0</td>\n",
       "    </tr>\n",
       "    <tr>\n",
       "      <th>4</th>\n",
       "      <td>4</td>\n",
       "      <td>4</td>\n",
       "      <td>4</td>\n",
       "      <td>D</td>\n",
       "      <td>250</td>\n",
       "      <td>50</td>\n",
       "    </tr>\n",
       "    <tr>\n",
       "      <th>5</th>\n",
       "      <td>5</td>\n",
       "      <td>5</td>\n",
       "      <td>5</td>\n",
       "      <td>E</td>\n",
       "      <td>250</td>\n",
       "      <td>0</td>\n",
       "    </tr>\n",
       "    <tr>\n",
       "      <th>6</th>\n",
       "      <td>6</td>\n",
       "      <td>6</td>\n",
       "      <td>6</td>\n",
       "      <td>S</td>\n",
       "      <td>350</td>\n",
       "      <td>80</td>\n",
       "    </tr>\n",
       "  </tbody>\n",
       "</table>\n",
       "</div>"
      ]
     },
     "execution_count": 39,
     "metadata": {},
     "output_type": "execute_result"
    }
   ],
   "source": [
    "nodes_df = links_df=pd.read_csv(\"./Data/TransportationNetworks/Seervada Park Management/nodes.csv\")\n",
    "nodes_df"
   ]
  },
  {
   "cell_type": "markdown",
   "metadata": {},
   "source": [
    "<img src=\"./Data/TransportationNetworks\\Seervada Park Management\\network_cost.png\">"
   ]
  },
  {
   "cell_type": "code",
   "execution_count": 6,
   "metadata": {},
   "outputs": [],
   "source": [
    "'''\n",
    "Created on Feb 20, 2015\n",
    "\n",
    "@author: DANNY\n",
    "'''\n",
    "#Reference https://gist.github.com/econchick/4666413\n",
    "\n",
    "class Graph: #Data structure\n",
    "    def __init__(self):\n",
    "        self.nodes = {}\n",
    "        self.edges = {}\n",
    "        self.costs = {}"
   ]
  },
  {
   "cell_type": "code",
   "execution_count": 7,
   "metadata": {},
   "outputs": [],
   "source": [
    "def add_node(self, idx, coordinates=[], **kwargs):\n",
    "        self.nodes[idx]={}\n",
    "        if len (coordinates) >0:\n",
    "            self.nodes[idx][\"loc\"]= coordinates\n",
    "        if kwargs is not None:\n",
    "            for key, value in kwargs.items():\n",
    "                self.nodes[idx][key] = value\n",
    "Graph.add_node = add_node"
   ]
  },
  {
   "cell_type": "code",
   "execution_count": 8,
   "metadata": {},
   "outputs": [
    {
     "data": {
      "text/plain": [
       "{'A': {'index': '1', 'loc': [1, 3]}}"
      ]
     },
     "execution_count": 8,
     "metadata": {},
     "output_type": "execute_result"
    }
   ],
   "source": [
    "g = Graph()\n",
    "g.add_node(\"A\", coordinates=[1,3],index=\"1\")\n",
    "g.nodes"
   ]
  },
  {
   "cell_type": "code",
   "execution_count": 9,
   "metadata": {},
   "outputs": [],
   "source": [
    "def add_edge(self, from_node, to_node, cost=1, bidirection=False, **kwargs):\n",
    "    if not from_node in self.edges:\n",
    "        self.edges[from_node] = {}\n",
    "    if bidirection==True:\n",
    "        if not to_node in self.edges:\n",
    "            self.edges[to_node] = {}\n",
    "\n",
    "    self.edges[from_node][to_node]={\"cost\":cost}\n",
    "    if kwargs is not None:\n",
    "        for key, value in kwargs.items():\n",
    "            self.edges[from_node][to_node][key] = value\n",
    "    self.costs[(from_node, to_node)] = cost\n",
    "    if from_node not in self.nodes:\n",
    "        self.add_node(from_node)\n",
    "    if to_node not in self.nodes:\n",
    "        self.add_node(to_node)\n",
    "        \n",
    "Graph.add_edge = add_edge"
   ]
  },
  {
   "cell_type": "code",
   "execution_count": 10,
   "metadata": {},
   "outputs": [
    {
     "name": "stdout",
     "output_type": "stream",
     "text": [
      "{'A': {'B': {'distance': 2, 'cost': 1}}}\n{'B': {}, 'A': {'loc': [1, 3], 'index': '1'}}\n"
     ]
    }
   ],
   "source": [
    "g.add_edge(\"A\",\"B\",cost=1, distance=2)\n",
    "print (g.edges)\n",
    "print (g.nodes)"
   ]
  },
  {
   "cell_type": "code",
   "execution_count": 11,
   "metadata": {},
   "outputs": [],
   "source": [
    "class ODpath: #Results class structure\n",
    "    def __init__(self,cost, path):\n",
    "        self.cost = cost\n",
    "        self.path = path"
   ]
  },
  {
   "cell_type": "code",
   "execution_count": 12,
   "metadata": {},
   "outputs": [],
   "source": [
    "linkset = links_df[[\"FName\",\"TName\",\"Cost\"]].as_matrix()\n",
    "gh_t = Graph()\n",
    "for l in linkset:\n",
    "    snode, enode, cost = l[0],l[1], l[2]\n",
    "    gh_t.add_edge(snode, enode, cost)"
   ]
  },
  {
   "cell_type": "code",
   "execution_count": 13,
   "metadata": {},
   "outputs": [
    {
     "data": {
      "text/plain": [
       "{'A', 'B', 'C', 'D', 'E', 'R', 'S'}"
      ]
     },
     "execution_count": 13,
     "metadata": {},
     "output_type": "execute_result"
    }
   ],
   "source": [
    "set(gh_t.nodes)"
   ]
  },
  {
   "cell_type": "code",
   "execution_count": 14,
   "metadata": {},
   "outputs": [
    {
     "data": {
      "text/plain": [
       "{'A': {'B': {'cost': 2}, 'D': {'cost': 7}},\n 'B': {'D': {'cost': 4}, 'E': {'cost': 3}},\n 'C': {'B': {'cost': 1}, 'E': {'cost': 4}},\n 'D': {'S': {'cost': 5}},\n 'E': {'D': {'cost': 1}, 'S': {'cost': 7}},\n 'R': {'A': {'cost': 2}, 'B': {'cost': 5}, 'C': {'cost': 4}}}"
      ]
     },
     "execution_count": 14,
     "metadata": {},
     "output_type": "execute_result"
    }
   ],
   "source": [
    "gh_t.edges"
   ]
  },
  {
   "cell_type": "code",
   "execution_count": 15,
   "metadata": {},
   "outputs": [],
   "source": [
    "def dijsktra_source_to_all(graph, initial, verbose=False): #Dijkstra algorithm\n",
    "    visited = {initial: 0}\n",
    "    path = {}\n",
    "    try:\n",
    "        (nodes, edges) = (set(graph.nodes),graph.edges)\n",
    "        costs = graph.costs\n",
    "    except: #for NetworkX\n",
    "        (nodes, edges) = (set(graph.nodes()), graph)\n",
    "        costs = {(f,t):graph.get_edge_data(f, t)[\"weight\"] for f,t in graph.edges()}\n",
    "    while nodes:\n",
    "        if verbose == True:\n",
    "            print(\"----------------------------------\")\n",
    "        min_node = None\n",
    "        for node in nodes:\n",
    "            if node in visited:\n",
    "                if min_node is None:\n",
    "                    min_node = node\n",
    "                    if verbose ==True:\n",
    "                        print(\"Selected:\", min_node, visited[node])\n",
    "                elif visited[node] < visited[min_node]:\n",
    "                    min_node = node\n",
    "                    if verbose ==True:\n",
    "                        print(\"Selected:\", min_node, visited[node])\n",
    "        if min_node is None:\n",
    "            break\n",
    "        nodes.remove(min_node)\n",
    "        permanent = visited[min_node]\n",
    "        if min_node in edges:\n",
    "            for edge in edges[min_node]:\n",
    "                temp = permanent + costs[(min_node, edge)]\n",
    "                if edge not in visited or temp < visited[edge]:\n",
    "                    visited[edge] = temp\n",
    "                    path[edge] = min_node\n",
    "                    if verbose ==True:\n",
    "                            print(\"Permanent:\", permanent, \"i:\", min_node, \"j:\", edge,\"Link cost:\",graph.costs[(min_node, edge)], \"Temp Cost:\", visited[edge])\n",
    "    return visited, path"
   ]
  },
  {
   "cell_type": "code",
   "execution_count": 16,
   "metadata": {},
   "outputs": [
    {
     "name": "stdout",
     "output_type": "stream",
     "text": [
      "----------------------------------\nSelected: R 0\nPermanent: 0 i: R j: C Link cost: 4 Temp Cost: 4\nPermanent: 0 i: R j: B Link cost: 5 Temp Cost: 5\nPermanent: 0 i: R j: A Link cost: 2 Temp Cost: 2\n----------------------------------\nSelected: C 4\nSelected: A 2\nPermanent: 2 i: A j: D Link cost: 7 Temp Cost: 9\nPermanent: 2 i: A j: B Link cost: 2 Temp Cost: 4\n----------------------------------\nSelected: C 4\nPermanent: 4 i: C j: E Link cost: 4 Temp Cost: 8\n----------------------------------\nSelected: D 9\nSelected: E 8\nSelected: B 4\nPermanent: 4 i: B j: D Link cost: 4 Temp Cost: 8\nPermanent: 4 i: B j: E Link cost: 3 Temp Cost: 7\n----------------------------------\nSelected: D 8\nSelected: E 7\nPermanent: 7 i: E j: S Link cost: 7 Temp Cost: 14\n----------------------------------\nSelected: D 8\nPermanent: 8 i: D j: S Link cost: 5 Temp Cost: 13\n----------------------------------\nSelected: S 13\n"
     ]
    }
   ],
   "source": [
    "visited, path= dijsktra_source_to_all(gh_t, \"R\", verbose=True)"
   ]
  },
  {
   "cell_type": "code",
   "execution_count": 17,
   "metadata": {},
   "outputs": [
    {
     "data": {
      "text/plain": [
       "({'A': 2, 'B': 4, 'C': 4, 'D': 8, 'E': 7, 'R': 0, 'S': 13},\n {'A': 'R', 'B': 'A', 'C': 'R', 'D': 'B', 'E': 'B', 'S': 'D'})"
      ]
     },
     "execution_count": 17,
     "metadata": {},
     "output_type": "execute_result"
    }
   ],
   "source": [
    "visited, path"
   ]
  },
  {
   "cell_type": "code",
   "execution_count": 18,
   "metadata": {},
   "outputs": [],
   "source": [
    "def getTrajectory_O_to_D(origin, destination, path):\n",
    "    j=destination\n",
    "    rtrajectory = [j]\n",
    "    prenode = j\n",
    "    for k in range(0,len(path)):\n",
    "        if prenode != origin:\n",
    "            nextnode=path[prenode]\n",
    "            if nextnode==origin:\n",
    "                rtrajectory.append(nextnode)\n",
    "                break\n",
    "            rtrajectory.append(nextnode)\n",
    "            prenode=nextnode\n",
    "    rtrajectory.reverse()   \n",
    "    return rtrajectory"
   ]
  },
  {
   "cell_type": "code",
   "execution_count": 19,
   "metadata": {},
   "outputs": [],
   "source": [
    "def dijkstra_result(gh_t, origin=1, destination=False, verbose=False):\n",
    "    visited, path= dijsktra_source_to_all(gh_t, origin, verbose=verbose)\n",
    "    results = {}\n",
    "    if destination==False:\n",
    "        for i in visited:\n",
    "            cost = visited[i]\n",
    "            trajectory = getTrajectory_O_to_D(origin, i, path)\n",
    "            results[i] = {\"cost\":cost, \"path\":trajectory}\n",
    "    else:\n",
    "        cost = visited[destination]\n",
    "        trajectory = getTrajectory_to_D(origin, destination, path)\n",
    "        results[destination] = {\"cost\":cost, \"path\":trajectory}\n",
    "    return results"
   ]
  },
  {
   "cell_type": "code",
   "execution_count": 20,
   "metadata": {},
   "outputs": [
    {
     "name": "stdout",
     "output_type": "stream",
     "text": [
      "{'C': {'path': ['R', 'C'], 'cost': 4}, 'D': {'path': ['R', 'A', 'B', 'D'], 'cost': 8}, 'R': {'path': ['R'], 'cost': 0}, 'B': {'path': ['R', 'A', 'B'], 'cost': 4}, 'A': {'path': ['R', 'A'], 'cost': 2}, 'E': {'path': ['R', 'A', 'B', 'E'], 'cost': 7}, 'S': {'path': ['R', 'A', 'B', 'D', 'S'], 'cost': 13}}\n"
     ]
    }
   ],
   "source": [
    "onetoall=dijkstra_result(gh_t, origin=\"R\", verbose=False)\n",
    "print(onetoall)"
   ]
  },
  {
   "cell_type": "code",
   "execution_count": 21,
   "metadata": {},
   "outputs": [
    {
     "data": {
      "text/plain": [
       "{'cost': 13, 'path': ['R', 'A', 'B', 'D', 'S']}"
      ]
     },
     "execution_count": 21,
     "metadata": {},
     "output_type": "execute_result"
    }
   ],
   "source": [
    "onetoall[\"S\"]"
   ]
  },
  {
   "cell_type": "code",
   "execution_count": 22,
   "metadata": {},
   "outputs": [
    {
     "name": "stdout",
     "output_type": "stream",
     "text": [
      "O:R_________________________________\n{'C': {'path': ['R', 'C'], 'cost': 4}, 'D': {'path': ['R', 'A', 'B', 'D'], 'cost': 8}, 'R': {'path': ['R'], 'cost': 0}, 'B': {'path': ['R', 'A', 'B'], 'cost': 4}, 'A': {'path': ['R', 'A'], 'cost': 2}, 'E': {'path': ['R', 'A', 'B', 'E'], 'cost': 7}, 'S': {'path': ['R', 'A', 'B', 'D', 'S'], 'cost': 13}}\nO:A_________________________________\n{'D': {'path': ['A', 'B', 'D'], 'cost': 6}, 'B': {'path': ['A', 'B'], 'cost': 2}, 'A': {'path': ['A'], 'cost': 0}, 'E': {'path': ['A', 'B', 'E'], 'cost': 5}, 'S': {'path': ['A', 'B', 'D', 'S'], 'cost': 11}}\nO:B_________________________________\n{'D': {'path': ['B', 'D'], 'cost': 4}, 'B': {'path': ['B'], 'cost': 0}, 'E': {'path': ['B', 'E'], 'cost': 3}, 'S': {'path': ['B', 'D', 'S'], 'cost': 9}}\nO:C_________________________________\n{'C': {'path': ['C'], 'cost': 0}, 'B': {'path': ['C', 'B'], 'cost': 1}, 'S': {'path': ['C', 'B', 'D', 'S'], 'cost': 10}, 'E': {'path': ['C', 'E'], 'cost': 4}, 'D': {'path': ['C', 'B', 'D'], 'cost': 5}}\nO:D_________________________________\n{'D': {'path': ['D'], 'cost': 0}, 'S': {'path': ['D', 'S'], 'cost': 5}}\nO:E_________________________________\n{'D': {'path': ['E', 'D'], 'cost': 1}, 'E': {'path': ['E'], 'cost': 0}, 'S': {'path': ['E', 'D', 'S'], 'cost': 6}}\nO:S_________________________________\n{'S': {'path': ['S'], 'cost': 0}}\n"
     ]
    }
   ],
   "source": [
    "pathset = {}\n",
    "originset = [\"R\",\"A\",\"B\",\"C\",\"D\",\"E\",\"S\"]\n",
    "Results = {}\n",
    "for o in originset:\n",
    "    print((\"O:%s_________________________________\")%o)\n",
    "    Results[o]=dijkstra_result(gh_t, origin=o)\n",
    "    print (Results[o])"
   ]
  },
  {
   "cell_type": "code",
   "execution_count": 23,
   "metadata": {},
   "outputs": [
    {
     "data": {
      "text/plain": [
       "{'cost': 2, 'path': ['A', 'B']}"
      ]
     },
     "execution_count": 23,
     "metadata": {},
     "output_type": "execute_result"
    }
   ],
   "source": [
    "Results[\"A\"][\"B\"]"
   ]
  },
  {
   "cell_type": "markdown",
   "metadata": {},
   "source": [
    "## Network X\n",
    "\n",
    "NetworkX is a Python package for the creation, manipulation, and study of the structure, dynamics, and functions of complex networks.\n",
    "### Features\n",
    "- Data structures for graphs, digraphs, and multigraphs\n",
    "- Many standard graph algorithms\n",
    "- Network structure and analysis measures\n",
    "- Generators for classic graphs, random graphs, and synthetic networks\n",
    "- Nodes can be \"anything\" (e.g., text, images, XML records)\n",
    "- Edges can hold arbitrary data (e.g., weights, time-series)\n",
    "- Open source 3-clause BSD license\n",
    "- Well tested with over 90% code coverage\n",
    "- Additional benefits from Python include fast prototyping, easy to teach, and multi-platform"
   ]
  },
  {
   "cell_type": "code",
   "execution_count": 25,
   "metadata": {},
   "outputs": [],
   "source": [
    "import networkx as nx\n",
    "G = nx.DiGraph()\n",
    "Id=1\n",
    "for l in linkset:\n",
    "    snode, enode, cost = l[0],l[1], l[2]\n",
    "    G.add_edge(snode, enode, weight=cost, ID=Id, generalized_cost = cost*2)\n",
    "    Id+=1"
   ]
  },
  {
   "cell_type": "code",
   "execution_count": 26,
   "metadata": {},
   "outputs": [
    {
     "data": {
      "text/plain": [
       "({'A': 2, 'B': 4, 'C': 4, 'D': 8, 'E': 7, 'R': 0, 'S': 13},\n {'A': 'R', 'B': 'A', 'C': 'R', 'D': 'B', 'E': 'B', 'S': 'D'})"
      ]
     },
     "execution_count": 26,
     "metadata": {},
     "output_type": "execute_result"
    }
   ],
   "source": [
    "dijsktra_source_to_all(G, \"R\", verbose=False)"
   ]
  },
  {
   "cell_type": "code",
   "execution_count": 29,
   "metadata": {},
   "outputs": [
    {
     "data": {
      "text/plain": [
       "['R', 'A', 'B', 'D', 'S']"
      ]
     },
     "execution_count": 29,
     "metadata": {},
     "output_type": "execute_result"
    }
   ],
   "source": [
    "nx.dijkstra_path(G,\"R\", \"S\", \"weight\")"
   ]
  },
  {
   "cell_type": "code",
   "execution_count": 30,
   "metadata": {},
   "outputs": [
    {
     "data": {
      "text/plain": [
       "13"
      ]
     },
     "execution_count": 30,
     "metadata": {},
     "output_type": "execute_result"
    }
   ],
   "source": [
    "nx.dijkstra_path_length(G,\"R\", \"S\", \"weight\")"
   ]
  },
  {
   "cell_type": "code",
   "execution_count": 31,
   "metadata": {},
   "outputs": [
    {
     "data": {
      "text/plain": [
       "({'A': 2, 'B': 4, 'C': 4, 'D': 8, 'E': 7, 'R': 0, 'S': 13},\n {'A': ['R', 'A'],\n  'B': ['R', 'A', 'B'],\n  'C': ['R', 'C'],\n  'D': ['R', 'A', 'B', 'D'],\n  'E': ['R', 'A', 'B', 'E'],\n  'R': ['R'],\n  'S': ['R', 'A', 'B', 'D', 'S']})"
      ]
     },
     "execution_count": 31,
     "metadata": {},
     "output_type": "execute_result"
    }
   ],
   "source": [
    "nx.single_source_dijkstra(G,\"R\", weight=\"weight\")"
   ]
  },
  {
   "cell_type": "code",
   "execution_count": 32,
   "metadata": {},
   "outputs": [
    {
     "data": {
      "text/plain": [
       "<generator object all_pairs_dijkstra_path at 0x000002996B6946D0>"
      ]
     },
     "execution_count": 32,
     "metadata": {},
     "output_type": "execute_result"
    }
   ],
   "source": [
    "nx.all_pairs_dijkstra_path(G, weight=\"weight\")"
   ]
  },
  {
   "cell_type": "code",
   "execution_count": 43,
   "metadata": {},
   "outputs": [],
   "source": [
    "def setnodeinfo(G, nodes_df):\n",
    "    nodes_name = nodes_df[\"Name\"].as_matrix()\n",
    "    nodes_x = nodes_df[\"X\"].as_matrix()\n",
    "    nodes_y = nodes_df[\"Y\"].as_matrix()\n",
    "    pos ={}\n",
    "    for i in range(len(nodes_name)):\n",
    "        G.node[nodes_name[i]][\"loc\"]=(nodes_x[i],nodes_y[i])\n",
    "        pos[nodes_name[i]]=(nodes_x[i],nodes_y[i])\n",
    "    return pos"
   ]
  },
  {
   "cell_type": "code",
   "execution_count": 44,
   "metadata": {},
   "outputs": [
    {
     "data": {
      "image/png": "[encoded data removed]",
      "text/plain": [
       "<matplotlib.figure.Figure at 0x2996cc101d0>"
      ]
     },
     "metadata": {},
     "output_type": "display_data"
    }
   ],
   "source": [
    "import matplotlib.pyplot as plt\n",
    "\n",
    "pos = setnodeinfo(G, nodes_df)\n",
    "nx.draw_networkx_nodes(G,pos,node_size=200)\n",
    "nx.draw_networkx_edges(G, pos)\n",
    "nx.draw_networkx_labels(G, pos)\n",
    "plt.show()"
   ]
  },
  {
   "cell_type": "code",
   "execution_count": null,
   "metadata": {},
   "outputs": [],
   "source": [
    ""
   ]
  }
 ],
 "metadata": {
  "anaconda-cloud": {},
  "kernelspec": {
   "display_name": "Python [conda env:py35]",
   "language": "python",
   "name": "conda-env-py35-py"
  },
  "language_info": {
   "codemirror_mode": {
    "name": "ipython",
    "version": 3.0
   },
   "file_extension": ".py",
   "mimetype": "text/x-python",
   "name": "python",
   "nbconvert_exporter": "python",
   "pygments_lexer": "ipython3",
   "version": "3.5.2"
  }
 },
 "nbformat": 4,
 "nbformat_minor": 0
}