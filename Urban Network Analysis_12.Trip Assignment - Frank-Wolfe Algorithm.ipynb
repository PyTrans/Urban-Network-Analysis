{
 "cells": [
  {
   "cell_type": "markdown",
   "metadata": {},
   "source": [
    "# Urban Network Analysis\n",
    "## 12. Trip Assignment – Frank-Wolfe Algorithm"
   ]
  },
  {
   "cell_type": "markdown",
   "metadata": {},
   "source": [
    "## Introduction\n",
    "\n",
    "Frank-Wolfe (FW) method proposed by Frank and Wolfe in 1956 is a precedure to solve iterative first-order optimization problem with linear constraint and is known also as the convex combination algorithm [[1]](#Reference). The successive iterations solve a linearized objective function by first order Taylor approximation and find the solution that is an optimal linear combination of the current solution and the auxiliary LP solution.\n",
    "\n",
    "This method has been applied to traffic assignment problem because of the fact that constraints of traffic assignment problem are linear and the direction finding step can be executed relatively efficiently, All-or-Nothing (AoN) assignment [[2]](#Reference).[[3]](#Reference). This is possible when presuming constant value for link travel time (cost), which solution is to use a single path, the shortest path.\n",
    "\n",
    "This algorithm has been widely applied to traffic assignment due to simple calculation, using only linear optimization. However, one should keep in mind that the following issues exist [[2]](#Reference):\n",
    "- FW could have poor convergence after a few iterations\n",
    "- FW does not have a way to drop bad path, a path whose free flow time is worse than the equilibrium travel time. Such a path may come in from AoN in some iteration but may never leave the path set. This contributes to the equilibrium link flow though its effect keeps reduced at slower rate through iterations.\n"
   ]
  },
  {
   "cell_type": "markdown",
   "metadata": {},
   "source": [
    "The link performance ($t(x)$) function in this example is the conventional BPR function developed by the Bureau of Public Roads (BPR, now the U.S. Federal Highway Administration (FHWA)) [[4]](#Reference) . <br/><br/>\n",
    "$$t(x) = t_0\\Big[ 1+\\alpha \\big( \\displaystyle \\frac{x}{c} \\big)^\\beta \\Big]$$ <br/>\n",
    "\n",
    "BPR function is a link cost function which conventionally adopted in static traffic assignment because it is a convex function which essential in minimization process in the user equilibrium model. Strictly speaking, it cannot fully reflect all the traffic condition in reality. As shown in the figures below, BPR function is essentially convex monotonically increasing function, but in reality, we can observed a 'backward-bonding' trend in the roadway segments where congested conditions exit. If your dataset shows the non-convex trend, a remedy will be to use aggregated data over a longer time interval (say, an hour). Regardless of the time interval, applying a dynamic traffic assignment method is also another solution [[2]](#Reference). \n",
    "\n",
    "<table>\n",
    "    <tr>\n",
    "        <td><img src=\"Image/BPRLimitation.png\" alt=\"BPR function and link travel time-flow graph\" style=\"width: 700px;\"/></td>\n",
    "    </tr>\n",
    "    <tr>\n",
    "        <td>reprinted from He, X., Liu, H., & Peeta, S. (2015). Trafﬁc Network Modeling. In Routledge Handbook of Transportation (pp. 53-69). Routledge [[5]](#Reference).</td>\n",
    "    </tr>\n",
    "</table>"
   ]
  },
  {
   "cell_type": "markdown",
   "metadata": {},
   "source": [
    "Consider a network of SiouxFalls, which widely used in many transportation publications. The network is available from Transportation Networks (https://github.com/bstabler/TransportationNetworks) [[6]](#Reference).\n",
    "<br/>\n",
    "\n",
    "<table>\n",
    "<tr>\n",
    "<td><img src=\"Data/TransportationNetworks/SiouxFalls/SiouxFallsMap_AAA1998.jpg\" alt=\"SiouxFalls_network\" style=\"width: 350px;\"/></td><td><img src=\"Data/TransportationNetworks/SiouxFalls/SiouxFalls_network.PNG\" alt=\"SiouxFalls_network\" style=\"width: 350px;\"/></td>\n",
    "</tr>\n",
    "</table>"
   ]
  },
  {
   "cell_type": "markdown",
   "metadata": {},
   "source": [
    "## Prerequisites"
   ]
  },
  {
   "cell_type": "markdown",
   "metadata": {},
   "source": [
    "### 1. Packages and Modules Imported"
   ]
  },
  {
   "cell_type": "markdown",
   "metadata": {},
   "source": [
    "> ***networkx***\n",
    "\n",
    "<ul><ul>: For the creation, manipulation, and study of the structure, dynamics, and functions of complex networks\n",
    "</ul></ul>\n",
    "\n",
    "> ***scipy.integrate***\n",
    "\n",
    "<ul><ul>: Provides several integration techniques\n",
    "</ul></ul>\n",
    "\n",
    "> ***scipy.optimize***\n",
    "\n",
    "<ul><ul>: Provides several commonly used optimization algorithms\n",
    "</ul></ul>\n",
    "\n",
    "> ***matplotlib.pyplot***\n",
    "\n",
    "<ul><ul>: Provides a MATLAB-like plotting framework\n",
    "</ul></ul>\n",
    "\n",
    "> ***pytrans.UrbanNetworkAnalysis.TransportationNetworks***\n",
    "\n",
    "<ul><ul>: Module for importing and handling Transportation Networks datasets\n",
    "</ul></ul>\n"
   ]
  },
  {
   "cell_type": "code",
   "execution_count": 1,
   "metadata": {},
   "outputs": [],
   "source": [
    "import networkx as nx\n",
    "import scipy.integrate as integrate \n",
    "from scipy.optimize import minimize_scalar\n",
    "import matplotlib.pyplot as plt\n",
    "\n",
    "from pytrans.UrbanNetworkAnalysis import TransportationNetworks as tn"
   ]
  },
  {
   "cell_type": "markdown",
   "metadata": {},
   "source": [
    "### 2. Functions Defined"
   ]
  },
  {
   "cell_type": "markdown",
   "metadata": {},
   "source": [
    "> ***BPR***(_t0, xa, ca, alpha, beta_)\n",
    "\n",
    "<ul><ul>\n",
    "        : Method for calculating link travel time based on BPR function.<br><br>\n",
    "        <u> Parameters </u> :\n",
    "        <ul><ul><br>\n",
    "                <li>**t0** _(float)_ - free flow travel time on link a. </li>\n",
    "                <li>**xa** _(float)_ - volume of traffic on line. </li>\n",
    "                <li>**ca** _(float)_ - capacity of link a. </li>\n",
    "                <li>**alpha** _(float)_ - alpha coefficient, usually 0.15 in the BPR curve.</li>\n",
    "                <li>**beta** _(float)_ - beta coefficient, usually 4 in the BPR curve.</li>\n",
    "        </ul></ul><br>\n",
    "        <u> Returns </u> :\n",
    "        <ul><ul><br>\n",
    "                <li>**ta **_(float)_ - travel time for a vehicle on link a.</li>\n",
    "        </ul></ul>"
   ]
  },
  {
   "cell_type": "code",
   "execution_count": 2,
   "metadata": {},
   "outputs": [],
   "source": [
    "def BPR(t0, xa, ca, alpha, beta):\n",
    "    ta = t0*(1+alpha*(xa/ca)**beta)\n",
    "    return ta"
   ]
  },
  {
   "cell_type": "markdown",
   "metadata": {},
   "source": [
    "> ***calculateZ***(_theta, network, SO_)\n",
    "\n",
    "<ul><ul>\n",
    "        : Method for calculating objective function value. <br><br>\n",
    "        <u> Parameters </u> :\n",
    "        <ul><ul><br>\n",
    "                <li>**theta** _(float)_ - step size which determies how far along the auxility flow the next flow will be.</li>\n",
    "                <li>**network** _(dictionary)_ - graph of the current network. </li>\n",
    "                <li>**SO** _(string)_ - True: if the objective is to find system optimum, False: User equilibrium </li>\n",
    "        </ul></ul><br>\n",
    "        <u> Returns </u> :\n",
    "        <ul><ul><br>\n",
    "                <li>**z** _(float)_ - estimated objective</li>"
   ]
  },
  {
   "cell_type": "code",
   "execution_count": 3,
   "metadata": {},
   "outputs": [],
   "source": [
    "def calculateZ(theta, network, SO):\n",
    "    z = 0\n",
    "    for linkKey, linkVal in network.items():\n",
    "        t0 = linkVal['t0']\n",
    "        ca = linkVal['capa']\n",
    "        beta = linkVal['beta']\n",
    "        alpha = linkVal['alpha']\n",
    "        aux = linkVal['auxiliary'][-1]\n",
    "        flow = linkVal['flow'][-1]\n",
    "        \n",
    "        if SO == False:\n",
    "            z += integrate.quad(lambda x: BPR(t0, x, ca, alpha, beta), 0, flow+theta*(aux-flow))[0]\n",
    "        elif SO == True:\n",
    "            z += list(map(lambda x : x * BPR(t0, x, ca, alpha, beta), [flow+theta*(aux-flow)]))[0]\n",
    "    return z"
   ]
  },
  {
   "cell_type": "markdown",
   "metadata": {},
   "source": [
    "> ***lineSearch***(_network, SO_)\n",
    "\n",
    "<ul><ul>\n",
    "        : Finds theta, the optimal solution of the line search that minimizing the objective function along the line between current flow and auxiliary flow.<br><br>\n",
    "        <u> Parameters </u> :\n",
    "        <ul><ul><br>\n",
    "                <li>**network** _(dictionary)_ - graph of the current network. </li>\n",
    "                <li>**SO** _(string)_ - True: if the objective is to find system optimum, False: User equilibrium </li>\n",
    "        </ul></ul><br>\n",
    "        <u> Returns </u> :\n",
    "        <ul><ul><br>\n",
    "                <li>**theta.x** _(float)_ - optimal move size</li>"
   ]
  },
  {
   "cell_type": "code",
   "execution_count": 4,
   "metadata": {},
   "outputs": [],
   "source": [
    "def lineSearch(network, SO):\n",
    "    theta = minimize_scalar(lambda x: calculateZ(x, network, SO), bounds = (0,1), method = 'Bounded')\n",
    "    return theta.x"
   ]
  },
  {
   "cell_type": "markdown",
   "metadata": {},
   "source": [
    "## Solution"
   ]
  },
  {
   "cell_type": "markdown",
   "metadata": {},
   "source": [
    "### Major Variables\n",
    "\n",
    "#### network _(dictionary)\n",
    "- t0 (float) : cost at the free flow speed\n",
    "- capa (float) : capacity of the link\n",
    "- alpha (float) : alpha coefficient of the BPR funtion, usually 0.15\n",
    "- beta (float) : the exponent of power of the BPR function, usually 4\n",
    "- cost (list) : unit cost of the link at the condition of each iteration\n",
    "- auxiliary (list) : the auxiliary flow of F-W algorithm at the condition of each iteration\n",
    "- flow (list) : the assigned flow at the condition of each iteration\n",
    "\n",
    "#### fwResult _(dictionary)\n",
    "- theta (list) : step size at each iteration\n",
    "- z (list) : total value of the objective function"
   ]
  },
  {
   "cell_type": "markdown",
   "metadata": {},
   "source": [
    "### File Paths"
   ]
  },
  {
   "cell_type": "code",
   "execution_count": 5,
   "metadata": {},
   "outputs": [],
   "source": [
    "directory = \".\\\\Data\\\\TransportationNetworks\\\\SiouxFalls\\\\\"\n",
    "link_file = '{}SiouxFalls_net.tntp'.format(directory)\n",
    "trip_file = '{}SiouxFalls_trips.tntp'.format(directory)\n",
    "node_file = '{}SiouxFalls_node.tntp'.format(directory)"
   ]
  },
  {
   "cell_type": "markdown",
   "metadata": {},
   "source": [
    "### Set objective and Open a network"
   ]
  },
  {
   "cell_type": "code",
   "execution_count": 6,
   "metadata": {},
   "outputs": [],
   "source": [
    "SO = False # True - System optimum, False - User equilibrium\n",
    "siouxFalls = tn.Network(link_file, trip_file, node_file, SO)"
   ]
  },
  {
   "cell_type": "markdown",
   "metadata": {},
   "source": [
    "### Implement iterative optimization steps (UE)"
   ]
  },
  {
   "cell_type": "markdown",
   "metadata": {},
   "source": [
    "<h3 align=\"left\"> 1. Initialization </h3><br>\n",
    "Perform the All-or-Nothing (AoN) assignment based on the free flow travel time (t0) and calculate the link performance (t1) based on the link volume (x0)"
   ]
  },
  {
   "cell_type": "code",
   "execution_count": 7,
   "metadata": {},
   "outputs": [],
   "source": [
    "## initialization\n",
    "\n",
    "# define output variables, network and fwResult\n",
    "network = {(u,v): {'t0':d['object'].t0, 'alpha':d['object'].alpha, \\\n",
    "           'beta':d['object'].beta, 'capa':d['object'].capacity, 'flow':[], \\\n",
    "           'auxiliary':[], 'cost':[]} for (u, v, d) in siouxFalls.graph.edges(data=True)}\n",
    "\n",
    "fwResult = {'theta':[], 'z':[]}\n",
    "\n",
    "# initial all-or-nothing assignment and update link travel time(cost)\n",
    "siouxFalls.all_or_nothing_assignment()\n",
    "siouxFalls.update_linkcost()\n",
    "\n",
    "for linkKey, linkVal in network.items():\n",
    "    linkVal['cost'].append(siouxFalls.graph[linkKey[0]][linkKey[1]]['weight'])\n",
    "    linkVal['auxiliary'].append(siouxFalls.graph[linkKey[0]][linkKey[1]]['object'].vol)\n",
    "    linkVal['flow'].append(siouxFalls.graph[linkKey[0]][linkKey[1]]['object'].vol)"
   ]
  },
  {
   "cell_type": "markdown",
   "metadata": {},
   "source": [
    "<h3 align=\"left\"> 2. Network Loading (Direction Finding) </h3><br>\n",
    "Perform the AoN assignment based on the link performance (t) to yeild auxiliary link flows (f)\n",
    "\n",
    "<h3 align=\"left\"> 3. Convex Combination (Step Size Determination) </h3><br>\n",
    "Set $ x^{n}_{a} = x^{n-1}_a+\\theta*(f^{n}_a-x^{n-1}_{a})$ and find $\\theta$ that satisfies $Z(x^{n})$, where Z is the objective function e.g. the user equilibrium:\n",
    "\n",
    "$$min \\sum_{a} \\int_{0}^{x^{n-1}_a+\\theta(f^{n}_a-x^{n-1}_{a})} t_{a}(\\omega) d\\omega$$\n",
    "$$ s.t. \\hspace{0.5cm} 0\\leq\\theta\\leq1 $$\n",
    "<br/>\n",
    "Solve)<br/>\n",
    "let:<br/> \n",
    "$$F(\\theta) = \\sum_{a} \\int_{0}^{x^{n-1}_a+\\theta(f^{n}_a-x^{n-1}_{a})} t_{a}(\\omega) d\\omega$$ \n",
    "\n",
    "then:<br/>\n",
    "$$F^{(1)}(\\theta) = \\sum_{a}(f^{n}_a-x^{n-1}_{a})*t_{a}\\big(x^{n-1}_a+\\theta(f^{n}_a-x^{n-1}_{a})\\big)$$\n",
    "\n",
    "find $\\theta$ that satisfies  <br/>\n",
    "$$F^{(1)}(\\theta) = 0$$\n",
    "\n",
    "<h3 align=\"left\"> 4. Move and Update </h3><br>\n",
    "Calculate the current flow $x^{n}_{a}$ based on the $\\theta$ obtained and set $t^{n+1}_{a} = t_{a}(x^{n}_{a})$\n",
    "\n",
    "<h3 align=\"left\"> 5. Convergence Test </h3><br>\n",
    "If the convergence criteron is met, stop. Otherwise, increase iteration number and go to the step 3.1). This example has a convergence criterion: \n",
    "<br/>\n",
    "\n",
    "$$| Z(x^{n}) - Z(x^{n-1}) | < 0.001$$"
   ]
  },
  {
   "cell_type": "code",
   "execution_count": 8,
   "metadata": {},
   "outputs": [],
   "source": [
    "## iterations\n",
    "iterNum=0\n",
    "iteration = True\n",
    "while iteration:\n",
    "    iterNum += 1\n",
    "    siouxFalls.all_or_nothing_assignment()\n",
    "    siouxFalls.update_linkcost()\n",
    "    \n",
    "    # set auxiliary flow using updated link flow\n",
    "    for linkKey, linkVal in network.items():\n",
    "        linkVal['auxiliary'].append(siouxFalls.graph[linkKey[0]][linkKey[1]]['object'].vol)\n",
    "        \n",
    "    # getting optimal move size (theta)\n",
    "    theta = lineSearch(network, SO)\n",
    "    fwResult['theta'].append(theta)\n",
    "    \n",
    "    # set link flow (move) based on the theta, auxiliary flow, and link flow of previous iteration\n",
    "    for linkKey, linkVal in network.items():\n",
    "        aux = linkVal['auxiliary'][-1]\n",
    "        flow = linkVal['flow'][-1]\n",
    "        linkVal['flow'].append(flow + theta*(aux-flow))\n",
    "        \n",
    "        siouxFalls.graph[linkKey[0]][linkKey[1]]['object'].vol =  flow + theta * (aux - flow)\n",
    "        siouxFalls.graph[linkKey[0]][linkKey[1]]['object'].flow = flow + theta * (aux - flow)\n",
    "        \n",
    "    # update link travel time\n",
    "    siouxFalls.update_linkcost()\n",
    "    \n",
    "    # calculate objective function value\n",
    "    z=0\n",
    "    for linkKey, linkVal in network.items():\n",
    "        linkVal['cost'].append(siouxFalls.graph[linkKey[0]][linkKey[1]]['weight'])\n",
    "        totalcost = siouxFalls.graph[linkKey[0]][linkKey[1]]['object'].get_objective_function()\n",
    "        z+=totalcost\n",
    "        \n",
    "    fwResult['z'].append(z)        \n",
    "        \n",
    "    # convergence test\n",
    "    if iterNum == 1:\n",
    "        iteration = True\n",
    "    else:\n",
    "        if abs(fwResult['z'][-2] - fwResult['z'][-1]) <= 0.001 or iterNum==3000:\n",
    "            iteration = False"
   ]
  },
  {
   "cell_type": "markdown",
   "metadata": {},
   "source": [
    "## Results"
   ]
  },
  {
   "cell_type": "markdown",
   "metadata": {},
   "source": [
    "### 1.Link Flow"
   ]
  },
  {
   "cell_type": "code",
   "execution_count": 9,
   "metadata": {},
   "outputs": [
    {
     "name": "stdout",
     "output_type": "stream",
     "text": [
      "1  ->  2 :  4494.54176989006\n",
      "1  ->  3 :  8118.778958272509\n",
      "2  ->  1 :  4519.221797914771\n",
      "2  ->  6 :  5967.415424211337\n",
      "3  ->  1 :  8094.09893024779\n",
      "3  ->  4 :  14011.734532508233\n",
      "3  ->  12 :  10027.635980548692\n",
      "6  ->  2 :  5992.095452236077\n",
      "6  ->  5 :  8806.410890352707\n",
      "6  ->  8 :  12492.07533900986\n",
      "4  ->  3 :  14035.300255005786\n",
      "4  ->  5 :  18010.561177812673\n",
      "4  ->  11 :  5203.138655250309\n",
      "12  ->  3 :  9979.390230026394\n",
      "12  ->  11 :  8404.30673577725\n",
      "12  ->  13 :  12293.499582238235\n",
      "5  ->  4 :  18034.525517790804\n",
      "5  ->  6 :  8797.189586936702\n",
      "5  ->  9 :  15783.996289374203\n",
      "11  ->  4 :  5302.740037769658\n",
      "11  ->  10 :  17603.652145820124\n",
      "11  ->  12 :  8365.25930429379\n",
      "11  ->  14 :  9776.84654329423\n",
      "9  ->  5 :  15798.73932593642\n",
      "9  ->  8 :  6837.003588189477\n",
      "9  ->  10 :  21745.988235038363\n",
      "8  ->  6 :  12525.976670450578\n",
      "8  ->  7 :  12041.696631494666\n",
      "8  ->  9 :  6881.813917125096\n",
      "8  ->  16 :  8387.782258652309\n",
      "7  ->  8 :  12102.268632504787\n",
      "7  ->  18 :  15797.411851114739\n",
      "18  ->  7 :  15857.983852124853\n",
      "18  ->  16 :  15338.763385991087\n",
      "18  ->  20 :  18981.85790213907\n",
      "16  ->  8 :  8405.92191801853\n",
      "16  ->  10 :  11073.099106001297\n",
      "16  ->  17 :  11692.431092577279\n",
      "16  ->  18 :  15282.9530243623\n",
      "10  ->  9 :  21815.920942664954\n",
      "10  ->  11 :  17726.17558077024\n",
      "10  ->  15 :  23127.114768858475\n",
      "10  ->  16 :  11046.400103710237\n",
      "10  ->  17 :  8100.25998000537\n",
      "15  ->  10 :  23193.033134048248\n",
      "15  ->  14 :  9081.050165084958\n",
      "15  ->  19 :  19083.482310508\n",
      "15  ->  22 :  18407.035577998206\n",
      "17  ->  10 :  8100.098755101187\n",
      "17  ->  16 :  11681.45939260573\n",
      "17  ->  19 :  9952.45700478819\n",
      "14  ->  11 :  9814.877059380107\n",
      "14  ->  15 :  9038.201593072668\n",
      "14  ->  23 :  8399.68716026506\n",
      "13  ->  12 :  12384.301263199413\n",
      "13  ->  24 :  11121.192719077753\n",
      "24  ->  13 :  11111.994400038891\n",
      "24  ->  21 :  10257.083853646947\n",
      "24  ->  23 :  7862.518017725611\n",
      "23  ->  14 :  8394.86910433866\n",
      "23  ->  22 :  9625.288009737767\n",
      "23  ->  24 :  7902.576837070476\n",
      "19  ->  15 :  19115.979008981\n",
      "19  ->  17 :  9941.324079912434\n",
      "19  ->  20 :  8687.309218828683\n",
      "22  ->  15 :  18383.305816727272\n",
      "22  ->  20 :  7000.937506413773\n",
      "22  ->  21 :  8606.710833571178\n",
      "22  ->  23 :  9660.528773156224\n",
      "20  ->  18 :  18998.240264778018\n",
      "20  ->  19 :  8708.672992426036\n",
      "20  ->  21 :  6303.270721383314\n",
      "20  ->  22 :  7000.651706103468\n",
      "21  ->  20 :  6240.731057309228\n",
      "21  ->  22 :  8618.507636028975\n",
      "21  ->  24 :  10307.826715263309\n"
     ]
    }
   ],
   "source": [
    "for (u, v, d) in siouxFalls.graph.edges(data=True):\n",
    "    print(u, ' -> ', v, ': ', d['object'].vol)"
   ]
  },
  {
   "cell_type": "markdown",
   "metadata": {},
   "source": [
    "### 2. Visualization"
   ]
  },
  {
   "cell_type": "code",
   "execution_count": 10,
   "metadata": {},
   "outputs": [
    {
     "name": "stderr",
     "output_type": "stream",
     "text": [
      "C:\\ProgramData\\Anaconda3\\lib\\site-packages\\networkx\\drawing\\nx_pylab.py:522: MatplotlibDeprecationWarning: The is_string_like function was deprecated in version 2.1.\n",
      "  if not cb.is_string_like(edge_color) \\\n",
      "C:\\ProgramData\\Anaconda3\\lib\\site-packages\\networkx\\drawing\\nx_pylab.py:543: MatplotlibDeprecationWarning: The is_string_like function was deprecated in version 2.1.\n",
      "  if cb.is_string_like(edge_color) or len(edge_color) == 1:\n",
      "C:\\ProgramData\\Anaconda3\\lib\\site-packages\\networkx\\drawing\\nx_pylab.py:861: MatplotlibDeprecationWarning: The is_string_like function was deprecated in version 2.1.\n",
      "  if not cb.is_string_like(label):\n",
      "C:\\ProgramData\\Anaconda3\\lib\\site-packages\\networkx\\drawing\\nx_pylab.py:724: MatplotlibDeprecationWarning: The is_string_like function was deprecated in version 2.1.\n",
      "  if not cb.is_string_like(label):\n"
     ]
    },
    {
     "data": {
      "image/png": "[encoded data removed]",
      "text/plain": [
       "<matplotlib.figure.Figure at 0x1d929ab5198>"
      ]
     },
     "metadata": {},
     "output_type": "display_data"
    }
   ],
   "source": [
    "edgewidth = [d['object'].vol/5000 for (u, v, d) in siouxFalls.graph.edges(data=True)]\n",
    "\n",
    "if node_file != None:\n",
    "    plt.figure(num = 1, figsize=(10,10))\n",
    "    plt.axis('off')\n",
    "    \n",
    "    pos = nx.get_node_attributes(siouxFalls.graph, \"pos\")\n",
    "\n",
    "    nx.draw_networkx_edges(siouxFalls.graph, pos, width=edgewidth)\n",
    "    nx.draw_networkx_edge_labels(siouxFalls.graph, pos, \\\n",
    "                                 edge_labels={(u, v): round(d[\"object\"].vol,0) for u, v, d in siouxFalls.graph.edges(data=True)}, \\\n",
    "                                 font_size=8, label_pos=0.3, alpha=0.)\n",
    "    nx.draw_networkx_nodes(siouxFalls.graph, pos, with_labels=True)\n",
    "    nx.draw_networkx_labels(siouxFalls.graph, pos, font_size=10)\n",
    "    \n",
    "    plt.show()"
   ]
  },
  {
   "cell_type": "markdown",
   "metadata": {},
   "source": [
    "## Reference"
   ]
  },
  {
   "cell_type": "markdown",
   "metadata": {},
   "source": [
    "[1] Frank, M., & Wolfe, P. (1956). An algorithm for quadratic programming. Naval Research Logistics (NRL), 3(1‐2), 95-110.<br/>\n",
    "[2] Jayakrishnan, R. (2017). CEE228B: Transportation Networks II, lecture notes.<br/>\n",
    "__[[3]](http://web.mit.edu/sheffi/www/selectedMedia/sheffi_urban_trans_networks.pdf)__ Sheffi, Y. (1985). Urban transportation networks.<br/>\n",
    "__[[4]](https://en.wikibooks.org/wiki/Fundamentals_of_Transportation/Route_Choice)__ Fundamentals of Transportation/Route Choice. (n.d.). Retrieved November 30, 2017, from h<span>ttps://en.wikibooks.org/wiki/Fundamentals_of_Transportation/Route_Choice <br/>\n",
    "__[[5]](https://www.routledgehandbooks.com/doi/10.4324/9781315756684.ch3)__ He, X., Liu, H., & Peeta, S. (2015). Trafﬁc Network Modeling. In Routledge Handbook of Transportation (pp. 53-69). Routledge.\n",
    "[6] Transportation Networks for Research Core Team. Transportation Networks for Research. https://github.com/bstabler/TransportationNetworks. Accessed Feb, 10, 2018.<br/>\n"
   ]
  }
 ],
 "metadata": {
  "kernelspec": {
   "display_name": "Python 3",
   "language": "python",
   "name": "python3"
  },
  "language_info": {
   "codemirror_mode": {
    "name": "ipython",
    "version": 3
   },
   "file_extension": ".py",
   "mimetype": "text/x-python",
   "name": "python",
   "nbconvert_exporter": "python",
   "pygments_lexer": "ipython3",
   "version": "3.6.4"
  }
 },
 "nbformat": 4,
 "nbformat_minor": 2
}
