{
 "cells": [
  {
   "cell_type": "markdown",
   "metadata": {},
   "source": [
    "# Label-Correcting Algorithms: Bellman-Ford\n",
    "\n",
    "Among the methods to find path with least costs in a network, one common distinctions is label updating. A label in this context is a quantitive measure of the problem we are solving. Specifically to Shortest Path problem a label is a tentative distance or travel time from one node to a different node. This labels are updated or closed (no more update on that label) as the algorithm evolves.\n",
    "\n",
    "Broadly, a given algorithm can be classified as label-setting (once a label is set/closed it will no longer be updated) or label-correcting (a label may change its value several times and the label is never deemed as \"closed\"). Dijkstra is the paramount in label-setting algorithm and perhaps overall. Bellman-Ford is one of the classic algorithms for label-correcting. This algorithm is presented in more details in this notebook.\n",
    "\n",
    "As Dijkstra, the Bellman-Ford algorithm finds the shortest path from a source or origin node to all other nodes in the graphh/network. A graph $G$ is described as a set of nodes $N$ and links $[u,v]$ in the set $A$ where $u$ and $v$ refers to the upstream and downstream node of a link/arc.\n",
    "\n",
    "Let's firt have a graph as example. The graph below has $N=[1,2,3,4,5]$ and arcs $ A = [(1,2),(2,1),(1,3), (3,1), (2,4),(4,2),(4,3),(3,5), (5,4)]$  with their associated costs. Except from 3-5 to 4 there are multiple paths from node to node. So let's find all the shortest path in this graph.\n",
    "\n",
    "<img src=\"graphexample.png\">\n",
    "\n",
    "# Dependencies"
   ]
  },
  {
   "cell_type": "code",
   "execution_count": 4,
   "metadata": {},
   "outputs": [],
   "source": [
    "import numpy"
   ]
  },
  {
   "cell_type": "markdown",
   "metadata": {},
   "source": [
    "Our first step is to translate the information that we see in the figure into python variables."
   ]
  },
  {
   "cell_type": "code",
   "execution_count": 2,
   "metadata": {},
   "outputs": [],
   "source": [
    "nodes = [0,1,2,3,4]\n",
    "\n",
    "arcs_costs = [(0,1, 1.5),(1,0, 2.0),(0,2, 4.0), (2,0, 1.0), (1,3, 1.5),(3,1, 1.5),(3,2, 0.5),(2,4, 1.5),(4,3, 2.0)]\n",
    "\n",
    "arcs = []\n",
    "costs = {}\n",
    "\n",
    "for u,v,cost in arcs_costs:\n",
    "    arcs.append((u,v))\n",
    "    costs[u,v] = cost"
   ]
  },
  {
   "cell_type": "markdown",
   "metadata": {},
   "source": [
    "Now we have the input data for the Bellman-Ford algorithm. Here let's denote that we start from an origin node denoted as $o$. Also, $t_j$ refers to the travel time between the origin node and node $j$. The link $[u,v]$ has associated travel time $t_{u,v}$. \n",
    "\n",
    "Bellman-Ford algorithm works by an elementary principle. Whenever we know the travel time for a node $u$, the following relationship must hold:\n",
    "\n",
    "$$ t_v \\leq t_u + t_{u,v} \\quad \\forall v$$ \n",
    "\n",
    "So, if we can reach $u$ with time $t_u$ and a connection to $v$ is available through link $[u,v]$ then we can reach link $v$ with cost $t_u+t_{u,v}$. Bellman fords works by \"visiting\" all nodes and systematically checking whenever the cost to some link $v$ violates this inequality. If so, it corrects it by setting the travel time to $t_v=t_u+t_{u,v}$ and setting the predecessor node of $v$ to $u$. That is what the following code does: "
   ]
  },
  {
   "cell_type": "code",
   "execution_count": 8,
   "metadata": {},
   "outputs": [
    {
     "name": "stdout",
     "output_type": "stream",
     "text": [
      "{0: 0, 1: 1.5, 2: 3.5, 3: 3.0, 4: 5.0}\n",
      "{0: None, 1: 0, 2: 3, 3: 1, 4: 2}\n"
     ]
    }
   ],
   "source": [
    "#initialize the variables\n",
    "origin = 0\n",
    "times = {node: numpy.inf for node in nodes}\n",
    "times[origin] = 0\n",
    "predecessors = {node: None for node in nodes}\n",
    "\n",
    "\n",
    "for node in nodes:\n",
    "    for u,v in costs:\n",
    "        if times[v] >= times[u]+costs[u,v]:\n",
    "            times[v] = times[u]+costs[u,v]\n",
    "            predecessors[v] = u\n",
    "\n",
    "print(times)\n",
    "print(predecessors)"
   ]
  },
  {
   "cell_type": "markdown",
   "metadata": {},
   "source": [
    "That's (almost) all. the dictionary 'times' contains all travel times and the dictionary 'predessors' contains the predecessor node. We can compute the complete recursively from origin to any node $v$. We first find the predecessor of link $v$ referred. Later we find the predecessor of predecessor of link v. We keep doing that until we reach the origin node. The code above makes this operation."
   ]
  },
  {
   "cell_type": "code",
   "execution_count": 13,
   "metadata": {},
   "outputs": [
    {
     "name": "stdout",
     "output_type": "stream",
     "text": [
      "path from 0 to 4 is: [4, 2, 3, 1, 0] with cost: 5.0\n"
     ]
    }
   ],
   "source": [
    "def compute_path(origin, destination, predecessors):\n",
    "    path = []\n",
    "    \n",
    "    next_node = destination\n",
    "    \n",
    "    while next_node != origin:\n",
    "        path.append(next_node)\n",
    "        next_node = predecessors[next_node]\n",
    "    \n",
    "    path.append(origin)\n",
    "    return path\n",
    "\n",
    "path = compute_path(0,4, predecessors)\n",
    "print(\"path from 0 to 4 is:\", path, \"with cost:\", times[4])"
   ]
  },
  {
   "cell_type": "markdown",
   "metadata": {},
   "source": [
    "To make the code more generic, the following code computes the shortest path for given set of nodes, links, costs and the selected node."
   ]
  },
  {
   "cell_type": "code",
   "execution_count": 18,
   "metadata": {},
   "outputs": [
    {
     "name": "stdout",
     "output_type": "stream",
     "text": [
      "travel times from node 4: {0: 3.5, 1: 3.5, 2: 2.5, 3: 2.0, 4: 0}\n"
     ]
    }
   ],
   "source": [
    "def shortest_paths(nodes, arc_costs, origin):\n",
    "    arcs = []\n",
    "    costs = {}\n",
    "\n",
    "    for u,v,cost in arc_costs:\n",
    "        arcs.append((u,v))\n",
    "        costs[u,v] = cost\n",
    "        \n",
    "    times = {node: numpy.inf for node in nodes}\n",
    "    times[origin] = 0\n",
    "    predecessors = {node: None for node in nodes}\n",
    "\n",
    "\n",
    "    for node in nodes:\n",
    "        for u,v in costs:\n",
    "            if times[v] >= times[u]+costs[u,v]:\n",
    "                times[v] = times[u]+costs[u,v]\n",
    "                predecessors[v] = u\n",
    "    \n",
    "    return times, predecessors\n",
    "\n",
    "times, predecessors = shortest_paths(nodes, arcs_costs, 4)\n",
    "print(\"travel times from node 4:\", times)"
   ]
  },
  {
   "cell_type": "markdown",
   "metadata": {},
   "source": [
    "# Final Remarks\n",
    "\n",
    "Most of the time Dijkstra algorithm is faster compaared to Bellman-Ford. Dijjstra has a step of finding the open label with least coast and with an approriate data structure (heaps) it can run faster than Bellman-Ford for worst case. Nonetheless, Bellman-Ford algorithm can deal with negative cycles whereas Dijkstra Algorithm neessitates some adaptation to do so. Check it out the Notebook about Dijkstra algorithm!. The Wikipedia source about Floyd Algorithm is also worth reading.\n"
   ]
  }
 ],
 "metadata": {
  "kernelspec": {
   "display_name": "Python 3",
   "language": "python",
   "name": "python3"
  },
  "language_info": {
   "codemirror_mode": {
    "name": "ipython",
    "version": 3
   },
   "file_extension": ".py",
   "mimetype": "text/x-python",
   "name": "python",
   "nbconvert_exporter": "python",
   "pygments_lexer": "ipython3",
   "version": "3.5.2"
  }
 },
 "nbformat": 4,
 "nbformat_minor": 2
}
